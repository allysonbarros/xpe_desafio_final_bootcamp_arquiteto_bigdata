{
 "cells": [
  {
   "cell_type": "code",
   "execution_count": 1,
   "id": "bdfd27f1-5839-429f-aefe-2b75e6aaa2a8",
   "metadata": {},
   "outputs": [
    {
     "name": "stdout",
     "output_type": "stream",
     "text": [
      "Requirement already satisfied: duckdb in /opt/conda/lib/python3.11/site-packages (1.0.0)\n"
     ]
    }
   ],
   "source": [
    "!pip install duckdb"
   ]
  },
  {
   "cell_type": "code",
   "execution_count": 2,
   "id": "d9c4a080-2672-4b9f-a4a7-2596c360e4a8",
   "metadata": {},
   "outputs": [],
   "source": [
    "import duckdb\n",
    "import pandas as pd"
   ]
  },
  {
   "cell_type": "code",
   "execution_count": 3,
   "id": "a7e3c8b6-f852-4e2a-a6a5-a2f6bbf2d05d",
   "metadata": {},
   "outputs": [],
   "source": [
    "df_estados = pd.read_csv('raw_data/estado_regiao.csv', encoding='iso-8859-1', delimiter=';')"
   ]
  },
  {
   "cell_type": "code",
   "execution_count": 4,
   "id": "e7b369fe-98af-49ed-85db-2751fe776d2e",
   "metadata": {},
   "outputs": [
    {
     "data": {
      "text/html": [
       "<div>\n",
       "<style scoped>\n",
       "    .dataframe tbody tr th:only-of-type {\n",
       "        vertical-align: middle;\n",
       "    }\n",
       "\n",
       "    .dataframe tbody tr th {\n",
       "        vertical-align: top;\n",
       "    }\n",
       "\n",
       "    .dataframe thead th {\n",
       "        text-align: right;\n",
       "    }\n",
       "</style>\n",
       "<table border=\"1\" class=\"dataframe\">\n",
       "  <thead>\n",
       "    <tr style=\"text-align: right;\">\n",
       "      <th></th>\n",
       "      <th>id_estado</th>\n",
       "      <th>sigla</th>\n",
       "      <th>estado</th>\n",
       "      <th>regiao</th>\n",
       "      <th>pais</th>\n",
       "    </tr>\n",
       "  </thead>\n",
       "  <tbody>\n",
       "    <tr>\n",
       "      <th>0</th>\n",
       "      <td>1</td>\n",
       "      <td>AC</td>\n",
       "      <td>Acre</td>\n",
       "      <td>Norte</td>\n",
       "      <td>Brasil</td>\n",
       "    </tr>\n",
       "    <tr>\n",
       "      <th>1</th>\n",
       "      <td>2</td>\n",
       "      <td>AL</td>\n",
       "      <td>Alagoas</td>\n",
       "      <td>Nordeste</td>\n",
       "      <td>Brasil</td>\n",
       "    </tr>\n",
       "    <tr>\n",
       "      <th>2</th>\n",
       "      <td>3</td>\n",
       "      <td>AP</td>\n",
       "      <td>Amapá</td>\n",
       "      <td>Norte</td>\n",
       "      <td>Brasil</td>\n",
       "    </tr>\n",
       "    <tr>\n",
       "      <th>3</th>\n",
       "      <td>4</td>\n",
       "      <td>AM</td>\n",
       "      <td>Amazonas</td>\n",
       "      <td>Norte</td>\n",
       "      <td>Brasil</td>\n",
       "    </tr>\n",
       "    <tr>\n",
       "      <th>4</th>\n",
       "      <td>5</td>\n",
       "      <td>BA</td>\n",
       "      <td>Bahia</td>\n",
       "      <td>Nordeste</td>\n",
       "      <td>Brasil</td>\n",
       "    </tr>\n",
       "  </tbody>\n",
       "</table>\n",
       "</div>"
      ],
      "text/plain": [
       "   id_estado sigla    estado    regiao    pais\n",
       "0          1    AC      Acre     Norte  Brasil\n",
       "1          2    AL   Alagoas  Nordeste  Brasil\n",
       "2          3    AP     Amapá     Norte  Brasil\n",
       "3          4    AM  Amazonas     Norte  Brasil\n",
       "4          5    BA     Bahia  Nordeste  Brasil"
      ]
     },
     "execution_count": 4,
     "metadata": {},
     "output_type": "execute_result"
    }
   ],
   "source": [
    "df_estados.head()"
   ]
  },
  {
   "cell_type": "code",
   "execution_count": 5,
   "id": "61781933-f17b-4096-99d2-d5cfe4308b19",
   "metadata": {},
   "outputs": [],
   "source": [
    "df_respondentes = pd.read_csv('raw_data/respondentes_pesquisa.csv', encoding='iso-8859-1', delimiter='|', decimal='.')"
   ]
  },
  {
   "cell_type": "code",
   "execution_count": 6,
   "id": "d0dc30ca-3aeb-40b3-bf91-e28c05361cf7",
   "metadata": {},
   "outputs": [
    {
     "data": {
      "text/html": [
       "<div>\n",
       "<style scoped>\n",
       "    .dataframe tbody tr th:only-of-type {\n",
       "        vertical-align: middle;\n",
       "    }\n",
       "\n",
       "    .dataframe tbody tr th {\n",
       "        vertical-align: top;\n",
       "    }\n",
       "\n",
       "    .dataframe thead th {\n",
       "        text-align: right;\n",
       "    }\n",
       "</style>\n",
       "<table border=\"1\" class=\"dataframe\">\n",
       "  <thead>\n",
       "    <tr style=\"text-align: right;\">\n",
       "      <th></th>\n",
       "      <th>cod_pessoa</th>\n",
       "      <th>genero</th>\n",
       "      <th>data_nascimento</th>\n",
       "      <th>educacao</th>\n",
       "      <th>renda_mensal</th>\n",
       "      <th>peso</th>\n",
       "      <th>colesterol</th>\n",
       "      <th>estado_civil</th>\n",
       "      <th>id_estado</th>\n",
       "    </tr>\n",
       "  </thead>\n",
       "  <tbody>\n",
       "    <tr>\n",
       "      <th>0</th>\n",
       "      <td>10141743</td>\n",
       "      <td>Masculino</td>\n",
       "      <td>1981-04-25</td>\n",
       "      <td>Pós-Graduação</td>\n",
       "      <td>1000-3000</td>\n",
       "      <td>61.018446</td>\n",
       "      <td>96.777322</td>\n",
       "      <td>Viúvo</td>\n",
       "      <td>19</td>\n",
       "    </tr>\n",
       "    <tr>\n",
       "      <th>1</th>\n",
       "      <td>10141860</td>\n",
       "      <td>Feminino</td>\n",
       "      <td>1966-01-19</td>\n",
       "      <td>Ensino Médio</td>\n",
       "      <td>&gt; 5000</td>\n",
       "      <td>108.557401</td>\n",
       "      <td>176.108130</td>\n",
       "      <td>Viúvo</td>\n",
       "      <td>1</td>\n",
       "    </tr>\n",
       "    <tr>\n",
       "      <th>2</th>\n",
       "      <td>10142548</td>\n",
       "      <td>Masculino</td>\n",
       "      <td>1973-08-02</td>\n",
       "      <td>Pós-Graduação</td>\n",
       "      <td>&gt; 5000</td>\n",
       "      <td>112.349921</td>\n",
       "      <td>144.110224</td>\n",
       "      <td>Casado</td>\n",
       "      <td>19</td>\n",
       "    </tr>\n",
       "    <tr>\n",
       "      <th>3</th>\n",
       "      <td>10142591</td>\n",
       "      <td>Masculino</td>\n",
       "      <td>1997-03-05</td>\n",
       "      <td>Ensino Fundamental</td>\n",
       "      <td>&lt; 1000</td>\n",
       "      <td>116.238829</td>\n",
       "      <td>235.386072</td>\n",
       "      <td>Divorciado</td>\n",
       "      <td>17</td>\n",
       "    </tr>\n",
       "    <tr>\n",
       "      <th>4</th>\n",
       "      <td>10142654</td>\n",
       "      <td>Feminino</td>\n",
       "      <td>1969-08-05</td>\n",
       "      <td>Graduação</td>\n",
       "      <td>3000-5000</td>\n",
       "      <td>88.609912</td>\n",
       "      <td>38.102665</td>\n",
       "      <td>Casado</td>\n",
       "      <td>15</td>\n",
       "    </tr>\n",
       "  </tbody>\n",
       "</table>\n",
       "</div>"
      ],
      "text/plain": [
       "   cod_pessoa     genero data_nascimento            educacao renda_mensal  \\\n",
       "0    10141743  Masculino      1981-04-25       Pós-Graduação    1000-3000   \n",
       "1    10141860   Feminino      1966-01-19        Ensino Médio       > 5000   \n",
       "2    10142548  Masculino      1973-08-02       Pós-Graduação       > 5000   \n",
       "3    10142591  Masculino      1997-03-05  Ensino Fundamental       < 1000   \n",
       "4    10142654   Feminino      1969-08-05           Graduação    3000-5000   \n",
       "\n",
       "         peso  colesterol estado_civil  id_estado  \n",
       "0   61.018446   96.777322        Viúvo         19  \n",
       "1  108.557401  176.108130        Viúvo          1  \n",
       "2  112.349921  144.110224       Casado         19  \n",
       "3  116.238829  235.386072   Divorciado         17  \n",
       "4   88.609912   38.102665       Casado         15  "
      ]
     },
     "execution_count": 6,
     "metadata": {},
     "output_type": "execute_result"
    }
   ],
   "source": [
    "df_respondentes.head()"
   ]
  },
  {
   "cell_type": "code",
   "execution_count": 7,
   "id": "5ef3eb1e-cc41-4acf-abfb-c1fadc5bbe8d",
   "metadata": {},
   "outputs": [],
   "source": [
    "import os\n",
    "\n",
    "PATH = 'raw_data/dados_pesquisa_preferencias/'\n",
    "lista_df = [] # cria uma lista vazia\n",
    "for arquivo in os.listdir(PATH):\n",
    "    local_arquivo = os.path.join(PATH, arquivo)\n",
    "    if arquivo.endswith('.csv'):\n",
    "        df = pd.read_csv(local_arquivo, sep = ';', encoding='latin-1')       \n",
    "        lista_df.append(df)\n",
    "\n",
    "df_preferencias = pd.concat(lista_df)"
   ]
  },
  {
   "cell_type": "code",
   "execution_count": 8,
   "id": "03c29600-c963-4556-b79f-11c03c5352ed",
   "metadata": {},
   "outputs": [
    {
     "data": {
      "text/html": [
       "<div>\n",
       "<style scoped>\n",
       "    .dataframe tbody tr th:only-of-type {\n",
       "        vertical-align: middle;\n",
       "    }\n",
       "\n",
       "    .dataframe tbody tr th {\n",
       "        vertical-align: top;\n",
       "    }\n",
       "\n",
       "    .dataframe thead th {\n",
       "        text-align: right;\n",
       "    }\n",
       "</style>\n",
       "<table border=\"1\" class=\"dataframe\">\n",
       "  <thead>\n",
       "    <tr style=\"text-align: right;\">\n",
       "      <th></th>\n",
       "      <th>cod_pessoa</th>\n",
       "      <th>data_coleta</th>\n",
       "      <th>animal_estimacao</th>\n",
       "      <th>clima</th>\n",
       "      <th>bebida_favorita</th>\n",
       "      <th>hobby</th>\n",
       "      <th>atividade_fisica</th>\n",
       "      <th>preferencia_musical</th>\n",
       "    </tr>\n",
       "  </thead>\n",
       "  <tbody>\n",
       "    <tr>\n",
       "      <th>0</th>\n",
       "      <td>10142193</td>\n",
       "      <td>2024-08-02</td>\n",
       "      <td>Pássaro</td>\n",
       "      <td>moderado</td>\n",
       "      <td>refrigerante</td>\n",
       "      <td>Escutar música</td>\n",
       "      <td>Nunca</td>\n",
       "      <td>Rock</td>\n",
       "    </tr>\n",
       "    <tr>\n",
       "      <th>1</th>\n",
       "      <td>10142717</td>\n",
       "      <td>2024-08-02</td>\n",
       "      <td>Peixe</td>\n",
       "      <td>quente</td>\n",
       "      <td>Cerveja</td>\n",
       "      <td>Praticar esporte</td>\n",
       "      <td>Mensal</td>\n",
       "      <td>Pop</td>\n",
       "    </tr>\n",
       "    <tr>\n",
       "      <th>2</th>\n",
       "      <td>10143283</td>\n",
       "      <td>2024-08-02</td>\n",
       "      <td>Pássaro</td>\n",
       "      <td>frio</td>\n",
       "      <td>Chá</td>\n",
       "      <td>Assistir TV</td>\n",
       "      <td>Diária</td>\n",
       "      <td>Sertanejo</td>\n",
       "    </tr>\n",
       "    <tr>\n",
       "      <th>3</th>\n",
       "      <td>10143497</td>\n",
       "      <td>2024-08-02</td>\n",
       "      <td>Cachorro</td>\n",
       "      <td>quente</td>\n",
       "      <td>Café</td>\n",
       "      <td>Dormir</td>\n",
       "      <td>Semanal</td>\n",
       "      <td>Clássica</td>\n",
       "    </tr>\n",
       "    <tr>\n",
       "      <th>4</th>\n",
       "      <td>10143612</td>\n",
       "      <td>2024-08-02</td>\n",
       "      <td>Peixe</td>\n",
       "      <td>frio</td>\n",
       "      <td>Água</td>\n",
       "      <td>Praticar esporte</td>\n",
       "      <td>Semanal</td>\n",
       "      <td>Rock</td>\n",
       "    </tr>\n",
       "  </tbody>\n",
       "</table>\n",
       "</div>"
      ],
      "text/plain": [
       "   cod_pessoa data_coleta animal_estimacao     clima bebida_favorita  \\\n",
       "0    10142193  2024-08-02          Pássaro  moderado    refrigerante   \n",
       "1    10142717  2024-08-02            Peixe    quente         Cerveja   \n",
       "2    10143283  2024-08-02          Pássaro      frio             Chá   \n",
       "3    10143497  2024-08-02         Cachorro    quente            Café   \n",
       "4    10143612  2024-08-02            Peixe      frio            Água   \n",
       "\n",
       "              hobby atividade_fisica preferencia_musical  \n",
       "0    Escutar música            Nunca                Rock  \n",
       "1  Praticar esporte           Mensal                 Pop  \n",
       "2       Assistir TV           Diária           Sertanejo  \n",
       "3            Dormir          Semanal            Clássica  \n",
       "4  Praticar esporte          Semanal                Rock  "
      ]
     },
     "execution_count": 8,
     "metadata": {},
     "output_type": "execute_result"
    }
   ],
   "source": [
    "df_preferencias.head()"
   ]
  },
  {
   "cell_type": "code",
   "execution_count": 9,
   "id": "4080818d-caa2-4ec7-acb9-057f83638962",
   "metadata": {},
   "outputs": [],
   "source": [
    "df_unido = pd.merge(df_respondentes, df_estados, left_on='id_estado', right_on='id_estado', how='left')\n",
    "df_unido = pd.merge(df_unido, df_preferencias, left_on='cod_pessoa', right_on='cod_pessoa', how='left')\n",
    "df_unido.drop('id_estado', axis=1, inplace=True)"
   ]
  },
  {
   "cell_type": "code",
   "execution_count": 10,
   "id": "87575ef3-bbea-4d2b-845c-379458bbb778",
   "metadata": {},
   "outputs": [
    {
     "data": {
      "text/html": [
       "<div>\n",
       "<style scoped>\n",
       "    .dataframe tbody tr th:only-of-type {\n",
       "        vertical-align: middle;\n",
       "    }\n",
       "\n",
       "    .dataframe tbody tr th {\n",
       "        vertical-align: top;\n",
       "    }\n",
       "\n",
       "    .dataframe thead th {\n",
       "        text-align: right;\n",
       "    }\n",
       "</style>\n",
       "<table border=\"1\" class=\"dataframe\">\n",
       "  <thead>\n",
       "    <tr style=\"text-align: right;\">\n",
       "      <th></th>\n",
       "      <th>cod_pessoa</th>\n",
       "      <th>genero</th>\n",
       "      <th>data_nascimento</th>\n",
       "      <th>educacao</th>\n",
       "      <th>renda_mensal</th>\n",
       "      <th>peso</th>\n",
       "      <th>colesterol</th>\n",
       "      <th>estado_civil</th>\n",
       "      <th>sigla</th>\n",
       "      <th>estado</th>\n",
       "      <th>regiao</th>\n",
       "      <th>pais</th>\n",
       "      <th>data_coleta</th>\n",
       "      <th>animal_estimacao</th>\n",
       "      <th>clima</th>\n",
       "      <th>bebida_favorita</th>\n",
       "      <th>hobby</th>\n",
       "      <th>atividade_fisica</th>\n",
       "      <th>preferencia_musical</th>\n",
       "    </tr>\n",
       "  </thead>\n",
       "  <tbody>\n",
       "    <tr>\n",
       "      <th>0</th>\n",
       "      <td>10141743</td>\n",
       "      <td>Masculino</td>\n",
       "      <td>1981-04-25</td>\n",
       "      <td>Pós-Graduação</td>\n",
       "      <td>1000-3000</td>\n",
       "      <td>61.018446</td>\n",
       "      <td>96.777322</td>\n",
       "      <td>Viúvo</td>\n",
       "      <td>RJ</td>\n",
       "      <td>Rio de Janeiro</td>\n",
       "      <td>Sudeste</td>\n",
       "      <td>Brasil</td>\n",
       "      <td>2024-01-05</td>\n",
       "      <td>Lagarto</td>\n",
       "      <td>frio</td>\n",
       "      <td>Cerveja</td>\n",
       "      <td>Praticar esporte</td>\n",
       "      <td>Diária</td>\n",
       "      <td>Pop</td>\n",
       "    </tr>\n",
       "    <tr>\n",
       "      <th>1</th>\n",
       "      <td>10141860</td>\n",
       "      <td>Feminino</td>\n",
       "      <td>1966-01-19</td>\n",
       "      <td>Ensino Médio</td>\n",
       "      <td>&gt; 5000</td>\n",
       "      <td>108.557401</td>\n",
       "      <td>176.108130</td>\n",
       "      <td>Viúvo</td>\n",
       "      <td>AC</td>\n",
       "      <td>Acre</td>\n",
       "      <td>Norte</td>\n",
       "      <td>Brasil</td>\n",
       "      <td>2024-01-05</td>\n",
       "      <td>Coelho</td>\n",
       "      <td>quente</td>\n",
       "      <td>Café</td>\n",
       "      <td>Assistir TV</td>\n",
       "      <td>Semanal</td>\n",
       "      <td>Pop</td>\n",
       "    </tr>\n",
       "    <tr>\n",
       "      <th>2</th>\n",
       "      <td>10142548</td>\n",
       "      <td>Masculino</td>\n",
       "      <td>1973-08-02</td>\n",
       "      <td>Pós-Graduação</td>\n",
       "      <td>&gt; 5000</td>\n",
       "      <td>112.349921</td>\n",
       "      <td>144.110224</td>\n",
       "      <td>Casado</td>\n",
       "      <td>RJ</td>\n",
       "      <td>Rio de Janeiro</td>\n",
       "      <td>Sudeste</td>\n",
       "      <td>Brasil</td>\n",
       "      <td>2024-01-05</td>\n",
       "      <td>Lagarto</td>\n",
       "      <td>frio</td>\n",
       "      <td>Café</td>\n",
       "      <td>Ler livros</td>\n",
       "      <td>Nunca</td>\n",
       "      <td>Rock</td>\n",
       "    </tr>\n",
       "    <tr>\n",
       "      <th>3</th>\n",
       "      <td>10142591</td>\n",
       "      <td>Masculino</td>\n",
       "      <td>1997-03-05</td>\n",
       "      <td>Ensino Fundamental</td>\n",
       "      <td>&lt; 1000</td>\n",
       "      <td>116.238829</td>\n",
       "      <td>235.386072</td>\n",
       "      <td>Divorciado</td>\n",
       "      <td>PE</td>\n",
       "      <td>Pernambuco</td>\n",
       "      <td>Nordeste</td>\n",
       "      <td>Brasil</td>\n",
       "      <td>2024-01-05</td>\n",
       "      <td>Pássaro</td>\n",
       "      <td>moderado</td>\n",
       "      <td>Cerveja</td>\n",
       "      <td>Aprender algo novo</td>\n",
       "      <td>Mensal</td>\n",
       "      <td>Rock</td>\n",
       "    </tr>\n",
       "    <tr>\n",
       "      <th>4</th>\n",
       "      <td>10142654</td>\n",
       "      <td>Feminino</td>\n",
       "      <td>1969-08-05</td>\n",
       "      <td>Graduação</td>\n",
       "      <td>3000-5000</td>\n",
       "      <td>88.609912</td>\n",
       "      <td>38.102665</td>\n",
       "      <td>Casado</td>\n",
       "      <td>PB</td>\n",
       "      <td>Paraíba</td>\n",
       "      <td>Nordeste</td>\n",
       "      <td>Brasil</td>\n",
       "      <td>2024-01-05</td>\n",
       "      <td>Lagarto</td>\n",
       "      <td>moderado</td>\n",
       "      <td>Café</td>\n",
       "      <td>Assistir TV</td>\n",
       "      <td>Nunca</td>\n",
       "      <td>Pop</td>\n",
       "    </tr>\n",
       "  </tbody>\n",
       "</table>\n",
       "</div>"
      ],
      "text/plain": [
       "   cod_pessoa     genero data_nascimento            educacao renda_mensal  \\\n",
       "0    10141743  Masculino      1981-04-25       Pós-Graduação    1000-3000   \n",
       "1    10141860   Feminino      1966-01-19        Ensino Médio       > 5000   \n",
       "2    10142548  Masculino      1973-08-02       Pós-Graduação       > 5000   \n",
       "3    10142591  Masculino      1997-03-05  Ensino Fundamental       < 1000   \n",
       "4    10142654   Feminino      1969-08-05           Graduação    3000-5000   \n",
       "\n",
       "         peso  colesterol estado_civil sigla          estado    regiao  \\\n",
       "0   61.018446   96.777322        Viúvo    RJ  Rio de Janeiro   Sudeste   \n",
       "1  108.557401  176.108130        Viúvo    AC            Acre     Norte   \n",
       "2  112.349921  144.110224       Casado    RJ  Rio de Janeiro   Sudeste   \n",
       "3  116.238829  235.386072   Divorciado    PE      Pernambuco  Nordeste   \n",
       "4   88.609912   38.102665       Casado    PB         Paraíba  Nordeste   \n",
       "\n",
       "     pais data_coleta animal_estimacao     clima bebida_favorita  \\\n",
       "0  Brasil  2024-01-05          Lagarto      frio         Cerveja   \n",
       "1  Brasil  2024-01-05           Coelho    quente            Café   \n",
       "2  Brasil  2024-01-05          Lagarto      frio            Café   \n",
       "3  Brasil  2024-01-05          Pássaro  moderado         Cerveja   \n",
       "4  Brasil  2024-01-05          Lagarto  moderado            Café   \n",
       "\n",
       "                hobby atividade_fisica preferencia_musical  \n",
       "0    Praticar esporte           Diária                 Pop  \n",
       "1         Assistir TV          Semanal                 Pop  \n",
       "2          Ler livros            Nunca                Rock  \n",
       "3  Aprender algo novo           Mensal                Rock  \n",
       "4         Assistir TV            Nunca                 Pop  "
      ]
     },
     "execution_count": 10,
     "metadata": {},
     "output_type": "execute_result"
    }
   ],
   "source": [
    "df_unido.head()"
   ]
  },
  {
   "cell_type": "code",
   "execution_count": 11,
   "id": "e0f91ebb-fa1a-4d8a-9171-37583017a43b",
   "metadata": {},
   "outputs": [
    {
     "name": "stdout",
     "output_type": "stream",
     "text": [
      "<class 'pandas.core.frame.DataFrame'>\n",
      "RangeIndex: 2195 entries, 0 to 2194\n",
      "Data columns (total 19 columns):\n",
      " #   Column               Non-Null Count  Dtype  \n",
      "---  ------               --------------  -----  \n",
      " 0   cod_pessoa           2195 non-null   int64  \n",
      " 1   genero               2195 non-null   object \n",
      " 2   data_nascimento      2195 non-null   object \n",
      " 3   educacao             2195 non-null   object \n",
      " 4   renda_mensal         2195 non-null   object \n",
      " 5   peso                 2190 non-null   float64\n",
      " 6   colesterol           2195 non-null   float64\n",
      " 7   estado_civil         2185 non-null   object \n",
      " 8   sigla                2195 non-null   object \n",
      " 9   estado               2195 non-null   object \n",
      " 10  regiao               2195 non-null   object \n",
      " 11  pais                 2195 non-null   object \n",
      " 12  data_coleta          2195 non-null   object \n",
      " 13  animal_estimacao     2195 non-null   object \n",
      " 14  clima                2195 non-null   object \n",
      " 15  bebida_favorita      2195 non-null   object \n",
      " 16  hobby                2195 non-null   object \n",
      " 17  atividade_fisica     2195 non-null   object \n",
      " 18  preferencia_musical  2195 non-null   object \n",
      "dtypes: float64(2), int64(1), object(16)\n",
      "memory usage: 325.9+ KB\n"
     ]
    }
   ],
   "source": [
    "df_unido.info()"
   ]
  },
  {
   "cell_type": "code",
   "execution_count": 12,
   "id": "e13e5596-49cc-4d2b-83f4-93524f3ec1b4",
   "metadata": {
    "editable": true,
    "slideshow": {
     "slide_type": ""
    },
    "tags": []
   },
   "outputs": [],
   "source": [
    "moda_estado_civil = df_unido['estado_civil'].mode()[0]\n",
    "media_peso = df_unido['peso'].mean().round()\n",
    "\n",
    "df_unido['estado_civil'].fillna(value=moda_estado_civil, inplace=True)\n",
    "df_unido['peso'].fillna(value=media_peso, inplace=True)"
   ]
  },
  {
   "cell_type": "code",
   "execution_count": 13,
   "id": "e82f6aa6-e765-4fb8-bc7a-8880a82679de",
   "metadata": {},
   "outputs": [
    {
     "data": {
      "text/plain": [
       "2127"
      ]
     },
     "execution_count": 13,
     "metadata": {},
     "output_type": "execute_result"
    }
   ],
   "source": [
    "len(df_unido['cod_pessoa'].unique())"
   ]
  },
  {
   "cell_type": "code",
   "execution_count": 14,
   "id": "cc34a950-02ea-4ecf-934e-645e66836c92",
   "metadata": {},
   "outputs": [],
   "source": [
    "df_unido.drop_duplicates(inplace=True)"
   ]
  },
  {
   "cell_type": "code",
   "execution_count": 15,
   "id": "3e2d7026-c30e-48c8-836d-0280324efc03",
   "metadata": {},
   "outputs": [
    {
     "name": "stdout",
     "output_type": "stream",
     "text": [
      "<class 'pandas.core.frame.DataFrame'>\n",
      "Index: 2127 entries, 0 to 2126\n",
      "Data columns (total 19 columns):\n",
      " #   Column               Non-Null Count  Dtype  \n",
      "---  ------               --------------  -----  \n",
      " 0   cod_pessoa           2127 non-null   int64  \n",
      " 1   genero               2127 non-null   object \n",
      " 2   data_nascimento      2127 non-null   object \n",
      " 3   educacao             2127 non-null   object \n",
      " 4   renda_mensal         2127 non-null   object \n",
      " 5   peso                 2127 non-null   float64\n",
      " 6   colesterol           2127 non-null   float64\n",
      " 7   estado_civil         2127 non-null   object \n",
      " 8   sigla                2127 non-null   object \n",
      " 9   estado               2127 non-null   object \n",
      " 10  regiao               2127 non-null   object \n",
      " 11  pais                 2127 non-null   object \n",
      " 12  data_coleta          2127 non-null   object \n",
      " 13  animal_estimacao     2127 non-null   object \n",
      " 14  clima                2127 non-null   object \n",
      " 15  bebida_favorita      2127 non-null   object \n",
      " 16  hobby                2127 non-null   object \n",
      " 17  atividade_fisica     2127 non-null   object \n",
      " 18  preferencia_musical  2127 non-null   object \n",
      "dtypes: float64(2), int64(1), object(16)\n",
      "memory usage: 332.3+ KB\n"
     ]
    }
   ],
   "source": [
    "df_unido.info()"
   ]
  },
  {
   "cell_type": "code",
   "execution_count": 16,
   "id": "1cac6824-da2f-4f3f-9f9d-75603dd3ea39",
   "metadata": {},
   "outputs": [],
   "source": [
    "df_unido[\"data_nascimento\"] = df_unido[\"data_nascimento\"].astype('datetime64[ns]')\n",
    "df_unido[\"data_coleta\"] = df_unido[\"data_coleta\"].astype('datetime64[ns]')\n",
    "\n",
    "df_unido['idade'] = (pd.to_datetime('2024-06-20') - df_unido[\"data_nascimento\"]).dt.days / 365\n",
    "df_unido['idade'] = df_unido['idade'].astype('int64')"
   ]
  },
  {
   "cell_type": "markdown",
   "id": "b958403e-2561-4fdf-8335-929157c81bc6",
   "metadata": {},
   "source": [
    "## Populando o Banco de Dados"
   ]
  },
  {
   "cell_type": "code",
   "execution_count": 34,
   "id": "d0a31669-0e5b-4185-a100-0c364ec5e33f",
   "metadata": {},
   "outputs": [],
   "source": [
    "con = duckdb.connect('database.db')"
   ]
  },
  {
   "cell_type": "code",
   "execution_count": 18,
   "id": "e6daf4ff-e4fd-4bb7-8091-0c483483940c",
   "metadata": {},
   "outputs": [],
   "source": [
    "con.sql(\"\"\"\n",
    "-- Sequence: seq_tb_estado\n",
    "CREATE SEQUENCE seq_tb_estado START 1;\n",
    "\n",
    "-- Sequence: seq_tb_estado_civil\n",
    "CREATE SEQUENCE seq_tb_estado_civil START 1;\n",
    "\n",
    "-- Sequence: seq_tb_educacao\n",
    "CREATE SEQUENCE seq_tb_educacao START 1;\n",
    "\n",
    "-- Sequence: seq_tb_pessoa\n",
    "CREATE SEQUENCE seq_tb_pessoa START 1;\n",
    "\n",
    "-- Sequence: seq_tb_preferencia_musical\n",
    "CREATE SEQUENCE seq_tb_preferencia_musical START 1;\n",
    "\n",
    "-- Sequence: seq_tb_animal_estimacao\n",
    "CREATE SEQUENCE seq_tb_animal_estimacao START 1;\n",
    "\n",
    "-- Sequence: seq_tb_clima\n",
    "CREATE SEQUENCE seq_tb_clima START 1;\n",
    "\n",
    "-- Sequence: seq_tb_hobby\n",
    "CREATE SEQUENCE seq_tb_hobby START 1;\n",
    "\n",
    "-- Sequence: seq_tb_bebida\n",
    "CREATE SEQUENCE seq_tb_bebida START 1;\n",
    "\n",
    "-- Sequence: seq_tb_atividade_fisica\n",
    "CREATE SEQUENCE seq_tb_atividade_fisica START 1;\n",
    "\n",
    "-- Sequence: seq_tb_pesquisa\n",
    "CREATE SEQUENCE seq_tb_pesquisa START 1;\n",
    "\n",
    "-- Tabela: tb_estado\n",
    "CREATE TABLE tb_estado (\n",
    "    cod_estado INT PRIMARY KEY DEFAULT NEXTVAL('seq_tb_estado'),\n",
    "    estado VARCHAR(45),\n",
    "    sigla_estado CHAR(2),\n",
    "    regiao VARCHAR(45),\n",
    "    pais VARCHAR(45)\n",
    ");\n",
    "\n",
    "-- Tabela: tb_estado_civil\n",
    "CREATE TABLE tb_estado_civil (\n",
    "    cod_estado_civil INT PRIMARY KEY DEFAULT NEXTVAL('seq_tb_estado_civil'),\n",
    "    estado_civil VARCHAR(45)\n",
    ");\n",
    "\n",
    "-- Tabela: tb_educacao\n",
    "CREATE TABLE tb_educacao (\n",
    "    cod_educacao INT PRIMARY KEY DEFAULT NEXTVAL('seq_tb_educacao'),\n",
    "    educacao VARCHAR(45)\n",
    ");\n",
    "\n",
    "-- Tabela: tbebida_favoritab_pessoa\n",
    "CREATE TABLE tb_pessoa (\n",
    "    cod_pessoa INT PRIMARY KEY DEFAULT NEXTVAL('seq_tb_pessoa'),\n",
    "    cod_estado_civil INT,\n",
    "    cod_estado INT,\n",
    "    cod_educacao INT,\n",
    "    genero VARCHAR(45),\n",
    "    data_nascimento DATE,\n",
    "    idade INT,\n",
    "    peso DECIMAL(10, 2),\n",
    "    colesterol DECIMAL(10, 2),\n",
    "    renda_mensal VARCHAR(45),\n",
    "    FOREIGN KEY (cod_estado_civil) REFERENCES tb_estado_civil(cod_estado_civil),\n",
    "    FOREIGN KEY (cod_estado) REFERENCES tb_estado(cod_estado),\n",
    "    FOREIGN KEY (cod_educacao) REFERENCES tb_educacao(cod_educacao)\n",
    ");\n",
    "\n",
    "-- Tabela: tb_preferencia_musical\n",
    "CREATE TABLE tb_preferencia_musical (\n",
    "    cod_preferencia_musical INT PRIMARY KEY DEFAULT NEXTVAL('seq_tb_preferencia_musical'),\n",
    "    preferencia_musical VARCHAR(45)\n",
    ");\n",
    "\n",
    "-- Tabela: tb_animal_estimacao\n",
    "CREATE TABLE tb_animal_estimacao (\n",
    "    cod_animal_estimacao INT PRIMARY KEY DEFAULT NEXTVAL('seq_tb_animal_estimacao'),\n",
    "    animal_estimacao VARCHAR(45)\n",
    ");\n",
    "\n",
    "-- Tabela: tb_clima\n",
    "CREATE TABLE tb_clima (\n",
    "    cod_clima INT PRIMARY KEY DEFAULT NEXTVAL('seq_tb_clima'),\n",
    "    clima VARCHAR(45)\n",
    ");\n",
    "\n",
    "-- Tabela: tb_hobby\n",
    "CREATE TABLE tb_hobby (\n",
    "    cod_hobby INT PRIMARY KEY DEFAULT NEXTVAL('seq_tb_hobby'),\n",
    "    hobby VARCHAR(45)\n",
    ");\n",
    "\n",
    "-- Tabela: tb_bebida\n",
    "CREATE TABLE tb_bebida (\n",
    "    cod_bebida INT PRIMARY KEY DEFAULT NEXTVAL('seq_tb_bebida'),\n",
    "    bebida VARCHAR(45)\n",
    ");\n",
    "\n",
    "-- Tabela: tb_atividade_fisica\n",
    "CREATE TABLE tb_atividade_fisica (\n",
    "    cod_atividade_fisica INT PRIMARY KEY DEFAULT NEXTVAL('seq_tb_atividade_fisica'),\n",
    "    atividade_fisica VARCHAR(45)\n",
    ");\n",
    "\n",
    "-- Tabela: tb_pesquisa\n",
    "CREATE TABLE tb_pesquisa (\n",
    "    cod_pesquisa INT PRIMARY KEY DEFAULT NEXTVAL('seq_tb_pesquisa'),\n",
    "    data_pesquisa DATE,\n",
    "    cod_pessoa INT,\n",
    "    cod_hobby INT,\n",
    "    cod_bebida INT,\n",
    "    cod_clima INT,\n",
    "    cod_animal_estimacao INT,\n",
    "    cod_atividade_fisica INT,\n",
    "    cod_preferencia_musical INT,\n",
    "    FOREIGN KEY (cod_pessoa) REFERENCES tb_pessoa(cod_pessoa),\n",
    "    FOREIGN KEY (cod_hobby) REFERENCES tb_hobby(cod_hobby),\n",
    "    FOREIGN KEY (cod_bebida) REFERENCES tb_bebida(cod_bebida),\n",
    "    FOREIGN KEY (cod_clima) REFERENCES tb_clima(cod_clima),\n",
    "    FOREIGN KEY (cod_animal_estimacao) REFERENCES tb_animal_estimacao(cod_animal_estimacao),\n",
    "    FOREIGN KEY (cod_atividade_fisica) REFERENCES tb_atividade_fisica(cod_atividade_fisica),\n",
    "    FOREIGN KEY (cod_preferencia_musical) REFERENCES tb_preferencia_musical(cod_preferencia_musical)\n",
    ");\n",
    "\"\"\")"
   ]
  },
  {
   "cell_type": "code",
   "execution_count": 19,
   "id": "09021b0f-6856-4468-aea5-764a1355dfae",
   "metadata": {},
   "outputs": [],
   "source": [
    "con.sql(\"INSERT INTO tb_estado SELECT id_estado, estado, sigla, regiao, pais FROM df_estados\")"
   ]
  },
  {
   "cell_type": "code",
   "execution_count": 20,
   "id": "3021571c-93e3-4edf-9ec7-7ffc9b7eca4c",
   "metadata": {},
   "outputs": [],
   "source": [
    "con.sql(\"INSERT INTO tb_estado_civil BY NAME SELECT DISTINCT estado_civil FROM df_unido\")"
   ]
  },
  {
   "cell_type": "code",
   "execution_count": 21,
   "id": "5d916cc4-8887-47d2-b294-f173976099f7",
   "metadata": {},
   "outputs": [],
   "source": [
    "con.sql(\"INSERT INTO tb_educacao BY NAME SELECT DISTINCT educacao FROM df_unido\")"
   ]
  },
  {
   "cell_type": "code",
   "execution_count": 22,
   "id": "3dd4aaf1-5433-47f6-b9c4-b7a8edd19476",
   "metadata": {},
   "outputs": [],
   "source": [
    "con.sql(\"INSERT INTO tb_atividade_fisica BY NAME SELECT DISTINCT atividade_fisica FROM df_unido\")"
   ]
  },
  {
   "cell_type": "code",
   "execution_count": 23,
   "id": "7518b1a1-aa2e-4028-8e01-882d11cf6939",
   "metadata": {},
   "outputs": [],
   "source": [
    "con.sql(\"INSERT INTO tb_bebida BY NAME SELECT DISTINCT bebida_favorita as bebida FROM df_unido\")"
   ]
  },
  {
   "cell_type": "code",
   "execution_count": 24,
   "id": "d7ba5312-fa24-4d3e-bd15-3c6cf7f26695",
   "metadata": {},
   "outputs": [],
   "source": [
    "con.sql(\"INSERT INTO tb_hobby BY NAME SELECT DISTINCT hobby FROM df_unido\")"
   ]
  },
  {
   "cell_type": "code",
   "execution_count": 25,
   "id": "a2788f0c-acd3-4881-a171-803ba2e73cee",
   "metadata": {},
   "outputs": [],
   "source": [
    "con.sql(\"INSERT INTO tb_clima BY NAME SELECT DISTINCT clima FROM df_unido\")"
   ]
  },
  {
   "cell_type": "code",
   "execution_count": 26,
   "id": "8b87b6ba-6038-45e6-b946-a559ec965846",
   "metadata": {},
   "outputs": [],
   "source": [
    "con.sql(\"INSERT INTO tb_animal_estimacao BY NAME SELECT DISTINCT animal_estimacao FROM df_unido\")"
   ]
  },
  {
   "cell_type": "code",
   "execution_count": 27,
   "id": "f019a0d3-e208-429b-a415-8a06e37692a2",
   "metadata": {},
   "outputs": [],
   "source": [
    "con.sql(\"INSERT INTO tb_preferencia_musical BY NAME SELECT DISTINCT preferencia_musical FROM df_unido\")"
   ]
  },
  {
   "cell_type": "code",
   "execution_count": 32,
   "id": "7fb28b5b-c757-4168-a6dc-86123200e403",
   "metadata": {},
   "outputs": [],
   "source": [
    "con.sql(\"\"\"\n",
    "INSERT INTO tb_pessoa SELECT cod_pessoa, estado_civil.cod_estado_civil, estado.cod_estado, educacao.cod_educacao, genero, data_nascimento, idade, peso, colesterol, renda_mensal\n",
    "FROM df_unido df\n",
    "INNER JOIN tb_estado_civil estado_civil ON estado_civil.estado_civil = df.estado_civil\n",
    "INNER JOIN tb_estado estado ON estado.sigla_estado = df.sigla\n",
    "INNER JOIN tb_educacao educacao ON educacao.educacao = df.educacao\n",
    "\"\"\")"
   ]
  },
  {
   "cell_type": "code",
   "execution_count": 71,
   "id": "52636f3b-76a6-4f56-9fc4-a768d4db986e",
   "metadata": {},
   "outputs": [],
   "source": [
    "con.sql(\"\"\"\n",
    "INSERT INTO tb_pesquisa BY NAME SELECT df.data_coleta as data_pesquisa, pessoa.cod_pessoa, hobby.cod_hobby, \n",
    "bebida.cod_bebida, clima.cod_clima, animal_estimacao.cod_animal_estimacao, \n",
    "atividade_fisica.cod_atividade_fisica, preferencia_musical.cod_preferencia_musical\n",
    "FROM df_unido df\n",
    "INNER JOIN tb_pessoa pessoa ON pessoa.cod_pessoa = df.cod_pessoa\n",
    "INNER JOIN tb_hobby hobby ON hobby.hobby = df.hobby\n",
    "INNER JOIN tb_bebida bebida ON bebida.bebida = df.bebida_favorita\n",
    "INNER JOIN tb_clima clima ON clima.clima = df.clima\n",
    "INNER JOIN tb_animal_estimacao animal_estimacao ON animal_estimacao.animal_estimacao = df.animal_estimacao\n",
    "INNER JOIN tb_atividade_fisica atividade_fisica ON atividade_fisica.atividade_fisica = df.atividade_fisica\n",
    "INNER JOIN tb_preferencia_musical preferencia_musical ON preferencia_musical.preferencia_musical = df.preferencia_musical\n",
    "\"\"\")"
   ]
  },
  {
   "cell_type": "code",
   "execution_count": 51,
   "id": "386aaf69-136f-4db0-9fda-edb3389556bb",
   "metadata": {},
   "outputs": [],
   "source": [
    "# con.close()"
   ]
  },
  {
   "cell_type": "markdown",
   "id": "717dca75-20f6-4ae9-af31-86f44b71026a",
   "metadata": {},
   "source": [
    "## Respondendo as perguntas do Desafio"
   ]
  },
  {
   "cell_type": "markdown",
   "id": "956da23e-6ccf-4e5e-a3d3-e66cb2e3ae37",
   "metadata": {},
   "source": [
    "### 1 - Qual é o animal de estimação de menor preferência entre as mulheres?"
   ]
  },
  {
   "cell_type": "code",
   "execution_count": 80,
   "id": "9303a234-79be-412f-993a-fafdd38aba8e",
   "metadata": {},
   "outputs": [
    {
     "data": {
      "text/plain": [
       "┌──────────────────┬───────┐\n",
       "│ animal_estimacao │  qtd  │\n",
       "│     varchar      │ int64 │\n",
       "├──────────────────┼───────┤\n",
       "│ Pássaro          │    84 │\n",
       "│ Coelho           │    85 │\n",
       "│ Lagarto          │    86 │\n",
       "│ Tartaruga        │    87 │\n",
       "│ Cachorro         │    90 │\n",
       "│ Hamster          │    95 │\n",
       "│ Peixe            │    95 │\n",
       "│ Gato             │   107 │\n",
       "└──────────────────┴───────┘"
      ]
     },
     "execution_count": 80,
     "metadata": {},
     "output_type": "execute_result"
    }
   ],
   "source": [
    "con.sql(\"\"\"\n",
    "SELECT animal.animal_estimacao, COUNT(0) as qtd FROM tb_pesquisa pesquisa\n",
    "INNER JOIN tb_pessoa pessoa ON pesquisa.cod_pessoa = pessoa.cod_pessoa\n",
    "INNER JOIN tb_animal_estimacao animal ON animal.cod_animal_estimacao = pesquisa.cod_animal_estimacao\n",
    "WHERE pessoa.genero = 'Feminino'\n",
    "GROUP BY animal.animal_estimacao\n",
    "ORDER BY qtd ASC\n",
    "\"\"\")"
   ]
  },
  {
   "cell_type": "code",
   "execution_count": 17,
   "id": "7a013e67-fc67-48ff-b27e-e47c14433096",
   "metadata": {},
   "outputs": [
    {
     "data": {
      "text/plain": [
       "┌──────────────────┬───────┐\n",
       "│ animal_estimacao │  qtd  │\n",
       "│     varchar      │ int64 │\n",
       "├──────────────────┼───────┤\n",
       "│ Pássaro          │    84 │\n",
       "│ Coelho           │    85 │\n",
       "│ Lagarto          │    86 │\n",
       "│ Tartaruga        │    87 │\n",
       "│ Cachorro         │    90 │\n",
       "│ Hamster          │    95 │\n",
       "│ Peixe            │    95 │\n",
       "│ Gato             │   107 │\n",
       "└──────────────────┴───────┘"
      ]
     },
     "execution_count": 17,
     "metadata": {},
     "output_type": "execute_result"
    }
   ],
   "source": [
    "duckdb.sql(\"\"\"\n",
    "SELECT animal_estimacao, COUNT(animal_estimacao) as qtd\n",
    "FROM df_unido\n",
    "WHERE genero = 'Feminino'\n",
    "GROUP BY genero, animal_estimacao\n",
    "ORDER BY qtd ASC\n",
    "\"\"\")"
   ]
  },
  {
   "cell_type": "markdown",
   "id": "494bc74a-ad9f-464d-903c-f8f064a8bb62",
   "metadata": {},
   "source": [
    "### 2 - Qual é a média de colesterol para as pessoas que praticam atividade física todos os dias?"
   ]
  },
  {
   "cell_type": "code",
   "execution_count": 82,
   "id": "9d611eec-3a27-4eaa-8c16-8179c84ba35f",
   "metadata": {},
   "outputs": [
    {
     "data": {
      "text/plain": [
       "┌────────────────────────┐\n",
       "│ avg(pessoa.colesterol) │\n",
       "│         double         │\n",
       "├────────────────────────┤\n",
       "│     118.90597378277154 │\n",
       "└────────────────────────┘"
      ]
     },
     "execution_count": 82,
     "metadata": {},
     "output_type": "execute_result"
    }
   ],
   "source": [
    "con.sql(\"\"\"\n",
    "SELECT AVG(pessoa.colesterol) FROM tb_pesquisa pesquisa\n",
    "INNER JOIN tb_pessoa pessoa ON pesquisa.cod_pessoa = pessoa.cod_pessoa\n",
    "INNER JOIN tb_atividade_fisica a ON a.cod_atividade_fisica = pesquisa.cod_atividade_fisica\n",
    "WHERE a.atividade_fisica = 'Diária'\n",
    "\"\"\")"
   ]
  },
  {
   "cell_type": "code",
   "execution_count": 19,
   "id": "cc330ab7-0e6f-4cce-a834-1ca4235a9f32",
   "metadata": {},
   "outputs": [
    {
     "data": {
      "text/plain": [
       "┌────────────────────┐\n",
       "│  avg(colesterol)   │\n",
       "│       double       │\n",
       "├────────────────────┤\n",
       "│ 118.90591506495466 │\n",
       "└────────────────────┘"
      ]
     },
     "execution_count": 19,
     "metadata": {},
     "output_type": "execute_result"
    }
   ],
   "source": [
    "duckdb.sql(\"\"\"\n",
    "SELECT AVG(colesterol)\n",
    "FROM df_unido\n",
    "WHERE atividade_fisica = 'Diária'\n",
    "\"\"\")"
   ]
  },
  {
   "cell_type": "markdown",
   "id": "0b47af15-45ad-4cd5-a28e-c355f9c74f74",
   "metadata": {},
   "source": [
    "### 3 - Qual é a preferência musical de maior sucesso entre as pessoas casadas?"
   ]
  },
  {
   "cell_type": "code",
   "execution_count": 87,
   "id": "1abdd371-bf72-480b-9552-741d6228c3e1",
   "metadata": {},
   "outputs": [
    {
     "data": {
      "text/plain": [
       "┌─────────────────────┬───────┐\n",
       "│ preferencia_musical │  qtd  │\n",
       "│       varchar       │ int64 │\n",
       "├─────────────────────┼───────┤\n",
       "│ Rock                │   153 │\n",
       "│ Clássica            │   142 │\n",
       "│ Pop                 │   137 │\n",
       "│ Sertanejo           │   136 │\n",
       "└─────────────────────┴───────┘"
      ]
     },
     "execution_count": 87,
     "metadata": {},
     "output_type": "execute_result"
    }
   ],
   "source": [
    "con.sql(\"\"\"\n",
    "SELECT p.preferencia_musical, COUNT(0) as qtd FROM tb_pesquisa pesquisa\n",
    "INNER JOIN tb_pessoa pessoa ON pesquisa.cod_pessoa = pessoa.cod_pessoa\n",
    "INNER JOIN tb_estado_civil e ON e.cod_estado_civil = pessoa.cod_estado_civil\n",
    "INNER JOIN tb_preferencia_musical p ON p.cod_preferencia_musical = pesquisa.cod_preferencia_musical\n",
    "WHERE e.estado_civil = 'Casado'\n",
    "GROUP BY p.preferencia_musical\n",
    "ORDER BY qtd DESC\n",
    "\"\"\")"
   ]
  },
  {
   "cell_type": "code",
   "execution_count": 20,
   "id": "1b5c9f2e-a188-4ca0-8591-6f4ff0798c3a",
   "metadata": {},
   "outputs": [
    {
     "data": {
      "text/plain": [
       "┌─────────────────────┬───────┐\n",
       "│ preferencia_musical │  qtd  │\n",
       "│       varchar       │ int64 │\n",
       "├─────────────────────┼───────┤\n",
       "│ Rock                │   153 │\n",
       "│ Clássica            │   142 │\n",
       "│ Pop                 │   137 │\n",
       "│ Sertanejo           │   136 │\n",
       "└─────────────────────┴───────┘"
      ]
     },
     "execution_count": 20,
     "metadata": {},
     "output_type": "execute_result"
    }
   ],
   "source": [
    "duckdb.sql(\"\"\"\n",
    "SELECT preferencia_musical, COUNT(preferencia_musical) as qtd\n",
    "FROM df_unido\n",
    "WHERE estado_civil = 'Casado'\n",
    "GROUP BY preferencia_musical\n",
    "ORDER BY qtd DESC\n",
    "\"\"\")"
   ]
  },
  {
   "cell_type": "markdown",
   "id": "339ff652-1ebd-4bcc-b00c-32093dc33f92",
   "metadata": {},
   "source": [
    "### 4 - Qual é a média de idade dos homens que têm preferência por chá e clima frio?"
   ]
  },
  {
   "cell_type": "code",
   "execution_count": 91,
   "id": "2db3c065-4996-4e56-add7-a49101b01747",
   "metadata": {},
   "outputs": [
    {
     "data": {
      "text/plain": [
       "┌────────────────────┐\n",
       "│ avg(pessoa.idade)  │\n",
       "│       double       │\n",
       "├────────────────────┤\n",
       "│ 46.282051282051285 │\n",
       "└────────────────────┘"
      ]
     },
     "execution_count": 91,
     "metadata": {},
     "output_type": "execute_result"
    }
   ],
   "source": [
    "con.sql(\"\"\"\n",
    "SELECT AVG(pessoa.idade) FROM tb_pesquisa pesquisa\n",
    "INNER JOIN tb_pessoa pessoa ON pesquisa.cod_pessoa = pessoa.cod_pessoa\n",
    "INNER JOIN tb_bebida p ON p.cod_bebida = pesquisa.cod_bebida\n",
    "INNER JOIN tb_clima c ON c.cod_clima = pesquisa.cod_clima\n",
    "WHERE pessoa.genero = 'Masculino' AND p.bebida = 'Chá' AND c.clima = 'frio'\n",
    "\"\"\")"
   ]
  },
  {
   "cell_type": "code",
   "execution_count": 21,
   "id": "dab4676f-5e48-4c63-90e1-90d1b3c9e43c",
   "metadata": {
    "scrolled": true
   },
   "outputs": [
    {
     "data": {
      "text/plain": [
       "┌────────────────────┐\n",
       "│     avg(idade)     │\n",
       "│       double       │\n",
       "├────────────────────┤\n",
       "│ 46.282051282051285 │\n",
       "└────────────────────┘"
      ]
     },
     "execution_count": 21,
     "metadata": {},
     "output_type": "execute_result"
    }
   ],
   "source": [
    "duckdb.sql(\"\"\"\n",
    "SELECT AVG(idade)\n",
    "FROM df_unido\n",
    "WHERE genero = 'Masculino' AND clima = 'frio' AND bebida_favorita = 'Chá'\n",
    "\"\"\")"
   ]
  },
  {
   "cell_type": "markdown",
   "id": "d997b4e8-a497-49d3-9827-c69a65d255d0",
   "metadata": {},
   "source": [
    "### 5 - Quantas pessoas com nível de educação \"Graduação\" têm uma renda mensal superior a R$5.000?\n"
   ]
  },
  {
   "cell_type": "code",
   "execution_count": 97,
   "id": "bc8aa3f1-e645-4e7f-86ec-0e8c2aeb8335",
   "metadata": {},
   "outputs": [
    {
     "data": {
      "text/plain": [
       "┌──────────┐\n",
       "│ count(0) │\n",
       "│  int64   │\n",
       "├──────────┤\n",
       "│      132 │\n",
       "└──────────┘"
      ]
     },
     "execution_count": 97,
     "metadata": {},
     "output_type": "execute_result"
    }
   ],
   "source": [
    "con.sql(\"\"\"\n",
    "SELECT COUNT(0) FROM tb_pessoa p\n",
    "INNER JOIN tb_educacao e ON e.cod_educacao = p.cod_educacao\n",
    "WHERE e.educacao = 'Graduação' and p.renda_mensal = '> 5000'\n",
    "\"\"\")"
   ]
  },
  {
   "cell_type": "code",
   "execution_count": 22,
   "id": "f5322f39-77d0-47bf-8446-34cad810c8ff",
   "metadata": {
    "scrolled": true
   },
   "outputs": [
    {
     "data": {
      "text/plain": [
       "┌──────────┐\n",
       "│ count(0) │\n",
       "│  int64   │\n",
       "├──────────┤\n",
       "│      132 │\n",
       "└──────────┘"
      ]
     },
     "execution_count": 22,
     "metadata": {},
     "output_type": "execute_result"
    }
   ],
   "source": [
    "duckdb.sql(\"\"\"\n",
    "SELECT count(0)\n",
    "FROM df_unido\n",
    "WHERE renda_mensal = '> 5000' AND educacao = 'Graduação'\n",
    "\"\"\")"
   ]
  },
  {
   "cell_type": "markdown",
   "id": "8ec4eecd-c695-4487-b4bc-d8812dc0c1f8",
   "metadata": {},
   "source": [
    "### 6 - Qual é a média de colesterol das pessoas casadas que vivem no Sudeste?\n"
   ]
  },
  {
   "cell_type": "code",
   "execution_count": 104,
   "id": "51b66e75-b17d-419d-a853-12933aa8300d",
   "metadata": {},
   "outputs": [
    {
     "data": {
      "text/plain": [
       "┌────────────────────┐\n",
       "│ avg(p.colesterol)  │\n",
       "│       double       │\n",
       "├────────────────────┤\n",
       "│ 114.64280373831775 │\n",
       "└────────────────────┘"
      ]
     },
     "execution_count": 104,
     "metadata": {},
     "output_type": "execute_result"
    }
   ],
   "source": [
    "con.sql(\"\"\"\n",
    "SELECT AVG(p.colesterol) FROM tb_pessoa p\n",
    "INNER JOIN tb_estado uf ON uf.cod_estado = p.cod_estado\n",
    "INNER JOIN tb_estado_civil e ON e.cod_estado_civil = p.cod_estado_civil\n",
    "WHERE e.estado_civil = 'Casado' AND uf.regiao = 'Sudeste'\n",
    "\"\"\")"
   ]
  },
  {
   "cell_type": "code",
   "execution_count": 25,
   "id": "2903d4a8-e55e-44aa-af3f-7b7d7a102f9d",
   "metadata": {},
   "outputs": [
    {
     "data": {
      "text/plain": [
       "┌───────────────────┐\n",
       "│  avg(colesterol)  │\n",
       "│      double       │\n",
       "├───────────────────┤\n",
       "│ 114.6427754663066 │\n",
       "└───────────────────┘"
      ]
     },
     "execution_count": 25,
     "metadata": {},
     "output_type": "execute_result"
    }
   ],
   "source": [
    "duckdb.sql(\"\"\"\n",
    "SELECT AVG(colesterol)\n",
    "FROM df_unido\n",
    "WHERE estado_civil = 'Casado' AND regiao = 'Sudeste'\n",
    "\"\"\")"
   ]
  },
  {
   "cell_type": "markdown",
   "id": "7862365f-acd7-4965-ae40-49dfaf6081c8",
   "metadata": {},
   "source": [
    "### 7 - Qual o hobby de maior preferência entre as mulheres que possuem mais de 35 anos?"
   ]
  },
  {
   "cell_type": "code",
   "execution_count": 109,
   "id": "a0dce6c6-c126-4b29-8441-1ee8144bc87c",
   "metadata": {},
   "outputs": [
    {
     "data": {
      "text/plain": [
       "┌────────────────────┬───────┐\n",
       "│       hobby        │  qtd  │\n",
       "│      varchar       │ int64 │\n",
       "├────────────────────┼───────┤\n",
       "│ Escutar música     │    80 │\n",
       "│ Escrever           │    76 │\n",
       "│ Dormir             │    73 │\n",
       "│ Praticar esporte   │    69 │\n",
       "│ Assistir TV        │    67 │\n",
       "│ Aprender algo novo │    65 │\n",
       "│ Pintar quadros     │    63 │\n",
       "│ Ler livros         │    61 │\n",
       "└────────────────────┴───────┘"
      ]
     },
     "execution_count": 109,
     "metadata": {},
     "output_type": "execute_result"
    }
   ],
   "source": [
    "con.sql(\"\"\"\n",
    "SELECT h.hobby, COUNT(0) as qtd FROM tb_pesquisa pesquisa\n",
    "INNER JOIN tb_pessoa pessoa ON pesquisa.cod_pessoa = pessoa.cod_pessoa\n",
    "INNER JOIN tb_hobby h ON h.cod_hobby = pesquisa.cod_hobby\n",
    "WHERE pessoa.genero = 'Feminino' AND pessoa.idade > 35\n",
    "GROUP BY h.hobby\n",
    "ORDER BY qtd DESC\n",
    "\"\"\")"
   ]
  },
  {
   "cell_type": "code",
   "execution_count": 43,
   "id": "ab561661-aad9-4d85-820f-9bd49343d7f5",
   "metadata": {},
   "outputs": [
    {
     "data": {
      "text/plain": [
       "┌────────────────────┬───────┐\n",
       "│       hobby        │  qtd  │\n",
       "│      varchar       │ int64 │\n",
       "├────────────────────┼───────┤\n",
       "│ Escutar música     │    80 │\n",
       "│ Escrever           │    76 │\n",
       "│ Dormir             │    73 │\n",
       "│ Praticar esporte   │    69 │\n",
       "│ Assistir TV        │    67 │\n",
       "│ Aprender algo novo │    65 │\n",
       "│ Pintar quadros     │    63 │\n",
       "│ Ler livros         │    61 │\n",
       "└────────────────────┴───────┘"
      ]
     },
     "execution_count": 43,
     "metadata": {},
     "output_type": "execute_result"
    }
   ],
   "source": [
    "duckdb.sql(\"\"\"\n",
    "SELECT hobby, COUNT(hobby) as qtd\n",
    "FROM df_unido\n",
    "WHERE genero = 'Feminino' AND idade > 35\n",
    "GROUP BY hobby\n",
    "ORDER BY qtd DESC\n",
    "\"\"\")"
   ]
  },
  {
   "cell_type": "markdown",
   "id": "54bc9afe-54d1-4b08-968a-53a984648155",
   "metadata": {},
   "source": [
    "### 8 - Crie um gráfico de histograma com 20 barras das idades de todos os homens que gostam de praticar esportes."
   ]
  },
  {
   "cell_type": "code",
   "execution_count": 54,
   "id": "bffa6dc6-6132-4336-b9cc-8ec0d7884f25",
   "metadata": {},
   "outputs": [
    {
     "data": {
      "text/plain": [
       "<Axes: >"
      ]
     },
     "execution_count": 54,
     "metadata": {},
     "output_type": "execute_result"
    },
    {
     "data": {
      "image/png": "[encoded data removed]",
      "text/plain": [
       "<Figure size 640x480 with 1 Axes>"
      ]
     },
     "metadata": {},
     "output_type": "display_data"
    }
   ],
   "source": [
    "df_unido[(df_unido['genero']=='Masculino') & (df_unido['hobby']=='Praticar esporte')]['idade'].hist(bins=20)"
   ]
  },
  {
   "cell_type": "markdown",
   "id": "68f20f8b-225d-4d7f-a99c-a72b45865519",
   "metadata": {},
   "source": [
    "### 9 - Qual é a proporção entre homens e mulheres que têm afinidade por cachorros e cultivam o hábito de ler livros?\n"
   ]
  },
  {
   "cell_type": "code",
   "execution_count": 63,
   "id": "3749663d-c9f1-43fd-bbe7-0237af39d6a1",
   "metadata": {},
   "outputs": [
    {
     "data": {
      "text/plain": [
       "genero\n",
       "Masculino    70.27027\n",
       "Feminino     29.72973\n",
       "Name: proportion, dtype: float64"
      ]
     },
     "execution_count": 63,
     "metadata": {},
     "output_type": "execute_result"
    }
   ],
   "source": [
    "df_unido[(df_unido['animal_estimacao']=='Cachorro') & (df_unido['hobby']=='Ler livros')]['genero'].value_counts(normalize=True) * 100"
   ]
  },
  {
   "cell_type": "markdown",
   "id": "917570bb-1d4f-43d4-9453-4273ec241e4f",
   "metadata": {},
   "source": [
    "### 10 - Qual é a desvio padrão das idades das pessoas que têm o hábito de assistir TV como hobby?"
   ]
  },
  {
   "cell_type": "code",
   "execution_count": 64,
   "id": "d5afc324-d512-43bd-95f7-cc3370a0b58b",
   "metadata": {},
   "outputs": [
    {
     "data": {
      "text/plain": [
       "14.345856108856259"
      ]
     },
     "execution_count": 64,
     "metadata": {},
     "output_type": "execute_result"
    }
   ],
   "source": [
    "df_unido[(df_unido['hobby']=='Assistir TV')]['idade'].std()"
   ]
  },
  {
   "cell_type": "markdown",
   "id": "92d2ee90-16f9-4940-930f-b1e507c55d45",
   "metadata": {},
   "source": [
    "### 11 - Qual dos scripts abaixo é utilizado para recuperar o número total de pessoas que responderam à pesquisa e indicaram que gostam de cachorros?"
   ]
  },
  {
   "cell_type": "code",
   "execution_count": 118,
   "id": "7e97fd64-1f3b-46f4-a974-2908078503f8",
   "metadata": {},
   "outputs": [
    {
     "data": {
      "text/plain": [
       "┌──────────────────┬───────┐\n",
       "│ animal_estimacao │ total │\n",
       "│     varchar      │ int64 │\n",
       "├──────────────────┼───────┤\n",
       "│ Cachorro         │   259 │\n",
       "└──────────────────┴───────┘"
      ]
     },
     "execution_count": 118,
     "metadata": {},
     "output_type": "execute_result"
    }
   ],
   "source": [
    "con.sql(\"\"\"\n",
    "select ae.animal_estimacao, count(0) total\n",
    "from tb_pesquisa p\n",
    "inner join tb_animal_estimacao ae\n",
    "on p.cod_animal_estimacao = ae.cod_animal_estimacao\n",
    "where ae.animal_estimacao = 'Cachorro'\n",
    "group by ae.animal_estimacao\n",
    "\"\"\")"
   ]
  },
  {
   "cell_type": "code",
   "execution_count": 119,
   "id": "f69a27f5-349e-40ab-b0bc-5b1c1aceceaa",
   "metadata": {},
   "outputs": [],
   "source": [
    "con.close()"
   ]
  }
 ],
 "metadata": {
  "kernelspec": {
   "display_name": "Python 3 (ipykernel)",
   "language": "python",
   "name": "python3"
  },
  "language_info": {
   "codemirror_mode": {
    "name": "ipython",
    "version": 3
   },
   "file_extension": ".py",
   "mimetype": "text/x-python",
   "name": "python",
   "nbconvert_exporter": "python",
   "pygments_lexer": "ipython3",
   "version": "3.11.6"
  }
 },
 "nbformat": 4,
 "nbformat_minor": 5
}
