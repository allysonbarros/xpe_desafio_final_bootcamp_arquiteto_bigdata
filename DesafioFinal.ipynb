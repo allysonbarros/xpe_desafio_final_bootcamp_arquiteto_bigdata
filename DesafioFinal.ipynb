{
 "cells": [
  {
   "cell_type": "code",
   "execution_count": 1,
   "id": "bdfd27f1-5839-429f-aefe-2b75e6aaa2a8",
   "metadata": {},
   "outputs": [
    {
     "name": "stdout",
     "output_type": "stream",
     "text": [
      "Requirement already satisfied: duckdb in /opt/conda/lib/python3.11/site-packages (1.0.0)\n"
     ]
    }
   ],
   "source": [
    "!pip install duckdb"
   ]
  },
  {
   "cell_type": "code",
   "execution_count": 2,
   "id": "d9c4a080-2672-4b9f-a4a7-2596c360e4a8",
   "metadata": {},
   "outputs": [],
   "source": [
    "import duckdb\n",
    "import pandas as pd"
   ]
  },
  {
   "cell_type": "code",
   "execution_count": 3,
   "id": "a7e3c8b6-f852-4e2a-a6a5-a2f6bbf2d05d",
   "metadata": {},
   "outputs": [],
   "source": [
    "df_estados = pd.read_csv('raw_data/estado_regiao.csv', encoding='iso-8859-1', delimiter=';')"
   ]
  },
  {
   "cell_type": "code",
   "execution_count": 4,
   "id": "e7b369fe-98af-49ed-85db-2751fe776d2e",
   "metadata": {},
   "outputs": [
    {
     "data": {
      "text/html": [
       "<div>\n",
       "<style scoped>\n",
       "    .dataframe tbody tr th:only-of-type {\n",
       "        vertical-align: middle;\n",
       "    }\n",
       "\n",
       "    .dataframe tbody tr th {\n",
       "        vertical-align: top;\n",
       "    }\n",
       "\n",
       "    .dataframe thead th {\n",
       "        text-align: right;\n",
       "    }\n",
       "</style>\n",
       "<table border=\"1\" class=\"dataframe\">\n",
       "  <thead>\n",
       "    <tr style=\"text-align: right;\">\n",
       "      <th></th>\n",
       "      <th>id_estado</th>\n",
       "      <th>sigla</th>\n",
       "      <th>estado</th>\n",
       "      <th>regiao</th>\n",
       "      <th>pais</th>\n",
       "    </tr>\n",
       "  </thead>\n",
       "  <tbody>\n",
       "    <tr>\n",
       "      <th>0</th>\n",
       "      <td>1</td>\n",
       "      <td>AC</td>\n",
       "      <td>Acre</td>\n",
       "      <td>Norte</td>\n",
       "      <td>Brasil</td>\n",
       "    </tr>\n",
       "    <tr>\n",
       "      <th>1</th>\n",
       "      <td>2</td>\n",
       "      <td>AL</td>\n",
       "      <td>Alagoas</td>\n",
       "      <td>Nordeste</td>\n",
       "      <td>Brasil</td>\n",
       "    </tr>\n",
       "    <tr>\n",
       "      <th>2</th>\n",
       "      <td>3</td>\n",
       "      <td>AP</td>\n",
       "      <td>Amapá</td>\n",
       "      <td>Norte</td>\n",
       "      <td>Brasil</td>\n",
       "    </tr>\n",
       "    <tr>\n",
       "      <th>3</th>\n",
       "      <td>4</td>\n",
       "      <td>AM</td>\n",
       "      <td>Amazonas</td>\n",
       "      <td>Norte</td>\n",
       "      <td>Brasil</td>\n",
       "    </tr>\n",
       "    <tr>\n",
       "      <th>4</th>\n",
       "      <td>5</td>\n",
       "      <td>BA</td>\n",
       "      <td>Bahia</td>\n",
       "      <td>Nordeste</td>\n",
       "      <td>Brasil</td>\n",
       "    </tr>\n",
       "  </tbody>\n",
       "</table>\n",
       "</div>"
      ],
      "text/plain": [
       "   id_estado sigla    estado    regiao    pais\n",
       "0          1    AC      Acre     Norte  Brasil\n",
       "1          2    AL   Alagoas  Nordeste  Brasil\n",
       "2          3    AP     Amapá     Norte  Brasil\n",
       "3          4    AM  Amazonas     Norte  Brasil\n",
       "4          5    BA     Bahia  Nordeste  Brasil"
      ]
     },
     "execution_count": 4,
     "metadata": {},
     "output_type": "execute_result"
    }
   ],
   "source": [
    "df_estados.head()"
   ]
  },
  {
   "cell_type": "code",
   "execution_count": 5,
   "id": "61781933-f17b-4096-99d2-d5cfe4308b19",
   "metadata": {},
   "outputs": [],
   "source": [
    "df_respondentes = pd.read_csv('raw_data/respondentes_pesquisa.csv', encoding='iso-8859-1', delimiter='|', decimal='.')"
   ]
  },
  {
   "cell_type": "code",
   "execution_count": 6,
   "id": "d0dc30ca-3aeb-40b3-bf91-e28c05361cf7",
   "metadata": {},
   "outputs": [
    {
     "data": {
      "text/html": [
       "<div>\n",
       "<style scoped>\n",
       "    .dataframe tbody tr th:only-of-type {\n",
       "        vertical-align: middle;\n",
       "    }\n",
       "\n",
       "    .dataframe tbody tr th {\n",
       "        vertical-align: top;\n",
       "    }\n",
       "\n",
       "    .dataframe thead th {\n",
       "        text-align: right;\n",
       "    }\n",
       "</style>\n",
       "<table border=\"1\" class=\"dataframe\">\n",
       "  <thead>\n",
       "    <tr style=\"text-align: right;\">\n",
       "      <th></th>\n",
       "      <th>cod_pessoa</th>\n",
       "      <th>genero</th>\n",
       "      <th>data_nascimento</th>\n",
       "      <th>educacao</th>\n",
       "      <th>renda_mensal</th>\n",
       "      <th>peso</th>\n",
       "      <th>colesterol</th>\n",
       "      <th>estado_civil</th>\n",
       "      <th>id_estado</th>\n",
       "    </tr>\n",
       "  </thead>\n",
       "  <tbody>\n",
       "    <tr>\n",
       "      <th>0</th>\n",
       "      <td>10141743</td>\n",
       "      <td>Masculino</td>\n",
       "      <td>1981-04-25</td>\n",
       "      <td>Pós-Graduação</td>\n",
       "      <td>1000-3000</td>\n",
       "      <td>61.018446</td>\n",
       "      <td>96.777322</td>\n",
       "      <td>Viúvo</td>\n",
       "      <td>19</td>\n",
       "    </tr>\n",
       "    <tr>\n",
       "      <th>1</th>\n",
       "      <td>10141860</td>\n",
       "      <td>Feminino</td>\n",
       "      <td>1966-01-19</td>\n",
       "      <td>Ensino Médio</td>\n",
       "      <td>&gt; 5000</td>\n",
       "      <td>108.557401</td>\n",
       "      <td>176.108130</td>\n",
       "      <td>Viúvo</td>\n",
       "      <td>1</td>\n",
       "    </tr>\n",
       "    <tr>\n",
       "      <th>2</th>\n",
       "      <td>10142548</td>\n",
       "      <td>Masculino</td>\n",
       "      <td>1973-08-02</td>\n",
       "      <td>Pós-Graduação</td>\n",
       "      <td>&gt; 5000</td>\n",
       "      <td>112.349921</td>\n",
       "      <td>144.110224</td>\n",
       "      <td>Casado</td>\n",
       "      <td>19</td>\n",
       "    </tr>\n",
       "    <tr>\n",
       "      <th>3</th>\n",
       "      <td>10142591</td>\n",
       "      <td>Masculino</td>\n",
       "      <td>1997-03-05</td>\n",
       "      <td>Ensino Fundamental</td>\n",
       "      <td>&lt; 1000</td>\n",
       "      <td>116.238829</td>\n",
       "      <td>235.386072</td>\n",
       "      <td>Divorciado</td>\n",
       "      <td>17</td>\n",
       "    </tr>\n",
       "    <tr>\n",
       "      <th>4</th>\n",
       "      <td>10142654</td>\n",
       "      <td>Feminino</td>\n",
       "      <td>1969-08-05</td>\n",
       "      <td>Graduação</td>\n",
       "      <td>3000-5000</td>\n",
       "      <td>88.609912</td>\n",
       "      <td>38.102665</td>\n",
       "      <td>Casado</td>\n",
       "      <td>15</td>\n",
       "    </tr>\n",
       "  </tbody>\n",
       "</table>\n",
       "</div>"
      ],
      "text/plain": [
       "   cod_pessoa     genero data_nascimento            educacao renda_mensal  \\\n",
       "0    10141743  Masculino      1981-04-25       Pós-Graduação    1000-3000   \n",
       "1    10141860   Feminino      1966-01-19        Ensino Médio       > 5000   \n",
       "2    10142548  Masculino      1973-08-02       Pós-Graduação       > 5000   \n",
       "3    10142591  Masculino      1997-03-05  Ensino Fundamental       < 1000   \n",
       "4    10142654   Feminino      1969-08-05           Graduação    3000-5000   \n",
       "\n",
       "         peso  colesterol estado_civil  id_estado  \n",
       "0   61.018446   96.777322        Viúvo         19  \n",
       "1  108.557401  176.108130        Viúvo          1  \n",
       "2  112.349921  144.110224       Casado         19  \n",
       "3  116.238829  235.386072   Divorciado         17  \n",
       "4   88.609912   38.102665       Casado         15  "
      ]
     },
     "execution_count": 6,
     "metadata": {},
     "output_type": "execute_result"
    }
   ],
   "source": [
    "df_respondentes.head()"
   ]
  },
  {
   "cell_type": "code",
   "execution_count": 7,
   "id": "5ef3eb1e-cc41-4acf-abfb-c1fadc5bbe8d",
   "metadata": {},
   "outputs": [],
   "source": [
    "import os\n",
    "\n",
    "PATH = 'raw_data/dados_pesquisa_preferencias/'\n",
    "lista_df = [] # cria uma lista vazia\n",
    "for arquivo in os.listdir(PATH):\n",
    "    local_arquivo = os.path.join(PATH, arquivo)\n",
    "    if arquivo.endswith('.csv'):\n",
    "        df = pd.read_csv(local_arquivo, sep = ';', encoding='latin-1')       \n",
    "        lista_df.append(df)\n",
    "\n",
    "df_preferencias = pd.concat(lista_df)"
   ]
  },
  {
   "cell_type": "code",
   "execution_count": 8,
   "id": "03c29600-c963-4556-b79f-11c03c5352ed",
   "metadata": {},
   "outputs": [
    {
     "data": {
      "text/html": [
       "<div>\n",
       "<style scoped>\n",
       "    .dataframe tbody tr th:only-of-type {\n",
       "        vertical-align: middle;\n",
       "    }\n",
       "\n",
       "    .dataframe tbody tr th {\n",
       "        vertical-align: top;\n",
       "    }\n",
       "\n",
       "    .dataframe thead th {\n",
       "        text-align: right;\n",
       "    }\n",
       "</style>\n",
       "<table border=\"1\" class=\"dataframe\">\n",
       "  <thead>\n",
       "    <tr style=\"text-align: right;\">\n",
       "      <th></th>\n",
       "      <th>cod_pessoa</th>\n",
       "      <th>data_coleta</th>\n",
       "      <th>animal_estimacao</th>\n",
       "      <th>clima</th>\n",
       "      <th>bebida_favorita</th>\n",
       "      <th>hobby</th>\n",
       "      <th>atividade_fisica</th>\n",
       "      <th>preferencia_musical</th>\n",
       "    </tr>\n",
       "  </thead>\n",
       "  <tbody>\n",
       "    <tr>\n",
       "      <th>0</th>\n",
       "      <td>10141824</td>\n",
       "      <td>2024-03-18</td>\n",
       "      <td>Gato</td>\n",
       "      <td>quente</td>\n",
       "      <td>Cerveja</td>\n",
       "      <td>Praticar esporte</td>\n",
       "      <td>Mensal</td>\n",
       "      <td>Sertanejo</td>\n",
       "    </tr>\n",
       "    <tr>\n",
       "      <th>1</th>\n",
       "      <td>10141910</td>\n",
       "      <td>2024-03-18</td>\n",
       "      <td>Gato</td>\n",
       "      <td>quente</td>\n",
       "      <td>Vinho</td>\n",
       "      <td>Assistir TV</td>\n",
       "      <td>Diária</td>\n",
       "      <td>Clássica</td>\n",
       "    </tr>\n",
       "    <tr>\n",
       "      <th>2</th>\n",
       "      <td>10141955</td>\n",
       "      <td>2024-03-18</td>\n",
       "      <td>Coelho</td>\n",
       "      <td>quente</td>\n",
       "      <td>Vinho</td>\n",
       "      <td>Dormir</td>\n",
       "      <td>Mensal</td>\n",
       "      <td>Rock</td>\n",
       "    </tr>\n",
       "    <tr>\n",
       "      <th>3</th>\n",
       "      <td>10142143</td>\n",
       "      <td>2024-03-18</td>\n",
       "      <td>Coelho</td>\n",
       "      <td>quente</td>\n",
       "      <td>Cerveja</td>\n",
       "      <td>Pintar quadros</td>\n",
       "      <td>Nunca</td>\n",
       "      <td>Sertanejo</td>\n",
       "    </tr>\n",
       "    <tr>\n",
       "      <th>4</th>\n",
       "      <td>10142661</td>\n",
       "      <td>2024-03-18</td>\n",
       "      <td>Peixe</td>\n",
       "      <td>quente</td>\n",
       "      <td>Café</td>\n",
       "      <td>Pintar quadros</td>\n",
       "      <td>Diária</td>\n",
       "      <td>Clássica</td>\n",
       "    </tr>\n",
       "  </tbody>\n",
       "</table>\n",
       "</div>"
      ],
      "text/plain": [
       "   cod_pessoa data_coleta animal_estimacao   clima bebida_favorita  \\\n",
       "0    10141824  2024-03-18             Gato  quente         Cerveja   \n",
       "1    10141910  2024-03-18             Gato  quente           Vinho   \n",
       "2    10141955  2024-03-18           Coelho  quente           Vinho   \n",
       "3    10142143  2024-03-18           Coelho  quente         Cerveja   \n",
       "4    10142661  2024-03-18            Peixe  quente            Café   \n",
       "\n",
       "              hobby atividade_fisica preferencia_musical  \n",
       "0  Praticar esporte           Mensal           Sertanejo  \n",
       "1       Assistir TV           Diária            Clássica  \n",
       "2            Dormir           Mensal                Rock  \n",
       "3    Pintar quadros            Nunca           Sertanejo  \n",
       "4    Pintar quadros           Diária            Clássica  "
      ]
     },
     "execution_count": 8,
     "metadata": {},
     "output_type": "execute_result"
    }
   ],
   "source": [
    "df_preferencias.head()"
   ]
  },
  {
   "cell_type": "code",
   "execution_count": 9,
   "id": "4080818d-caa2-4ec7-acb9-057f83638962",
   "metadata": {},
   "outputs": [],
   "source": [
    "df_unido = pd.merge(df_respondentes, df_estados, left_on='id_estado', right_on='id_estado', how='left')\n",
    "df_unido = pd.merge(df_unido, df_preferencias, left_on='cod_pessoa', right_on='cod_pessoa', how='left')\n",
    "df_unido.drop('id_estado', axis=1, inplace=True)"
   ]
  },
  {
   "cell_type": "code",
   "execution_count": 10,
   "id": "87575ef3-bbea-4d2b-845c-379458bbb778",
   "metadata": {},
   "outputs": [
    {
     "data": {
      "text/html": [
       "<div>\n",
       "<style scoped>\n",
       "    .dataframe tbody tr th:only-of-type {\n",
       "        vertical-align: middle;\n",
       "    }\n",
       "\n",
       "    .dataframe tbody tr th {\n",
       "        vertical-align: top;\n",
       "    }\n",
       "\n",
       "    .dataframe thead th {\n",
       "        text-align: right;\n",
       "    }\n",
       "</style>\n",
       "<table border=\"1\" class=\"dataframe\">\n",
       "  <thead>\n",
       "    <tr style=\"text-align: right;\">\n",
       "      <th></th>\n",
       "      <th>cod_pessoa</th>\n",
       "      <th>genero</th>\n",
       "      <th>data_nascimento</th>\n",
       "      <th>educacao</th>\n",
       "      <th>renda_mensal</th>\n",
       "      <th>peso</th>\n",
       "      <th>colesterol</th>\n",
       "      <th>estado_civil</th>\n",
       "      <th>sigla</th>\n",
       "      <th>estado</th>\n",
       "      <th>regiao</th>\n",
       "      <th>pais</th>\n",
       "      <th>data_coleta</th>\n",
       "      <th>animal_estimacao</th>\n",
       "      <th>clima</th>\n",
       "      <th>bebida_favorita</th>\n",
       "      <th>hobby</th>\n",
       "      <th>atividade_fisica</th>\n",
       "      <th>preferencia_musical</th>\n",
       "    </tr>\n",
       "  </thead>\n",
       "  <tbody>\n",
       "    <tr>\n",
       "      <th>0</th>\n",
       "      <td>10141743</td>\n",
       "      <td>Masculino</td>\n",
       "      <td>1981-04-25</td>\n",
       "      <td>Pós-Graduação</td>\n",
       "      <td>1000-3000</td>\n",
       "      <td>61.018446</td>\n",
       "      <td>96.777322</td>\n",
       "      <td>Viúvo</td>\n",
       "      <td>RJ</td>\n",
       "      <td>Rio de Janeiro</td>\n",
       "      <td>Sudeste</td>\n",
       "      <td>Brasil</td>\n",
       "      <td>2024-01-05</td>\n",
       "      <td>Lagarto</td>\n",
       "      <td>frio</td>\n",
       "      <td>Cerveja</td>\n",
       "      <td>Praticar esporte</td>\n",
       "      <td>Diária</td>\n",
       "      <td>Pop</td>\n",
       "    </tr>\n",
       "    <tr>\n",
       "      <th>1</th>\n",
       "      <td>10141860</td>\n",
       "      <td>Feminino</td>\n",
       "      <td>1966-01-19</td>\n",
       "      <td>Ensino Médio</td>\n",
       "      <td>&gt; 5000</td>\n",
       "      <td>108.557401</td>\n",
       "      <td>176.108130</td>\n",
       "      <td>Viúvo</td>\n",
       "      <td>AC</td>\n",
       "      <td>Acre</td>\n",
       "      <td>Norte</td>\n",
       "      <td>Brasil</td>\n",
       "      <td>2024-01-05</td>\n",
       "      <td>Coelho</td>\n",
       "      <td>quente</td>\n",
       "      <td>Café</td>\n",
       "      <td>Assistir TV</td>\n",
       "      <td>Semanal</td>\n",
       "      <td>Pop</td>\n",
       "    </tr>\n",
       "    <tr>\n",
       "      <th>2</th>\n",
       "      <td>10142548</td>\n",
       "      <td>Masculino</td>\n",
       "      <td>1973-08-02</td>\n",
       "      <td>Pós-Graduação</td>\n",
       "      <td>&gt; 5000</td>\n",
       "      <td>112.349921</td>\n",
       "      <td>144.110224</td>\n",
       "      <td>Casado</td>\n",
       "      <td>RJ</td>\n",
       "      <td>Rio de Janeiro</td>\n",
       "      <td>Sudeste</td>\n",
       "      <td>Brasil</td>\n",
       "      <td>2024-01-05</td>\n",
       "      <td>Lagarto</td>\n",
       "      <td>frio</td>\n",
       "      <td>Café</td>\n",
       "      <td>Ler livros</td>\n",
       "      <td>Nunca</td>\n",
       "      <td>Rock</td>\n",
       "    </tr>\n",
       "    <tr>\n",
       "      <th>3</th>\n",
       "      <td>10142591</td>\n",
       "      <td>Masculino</td>\n",
       "      <td>1997-03-05</td>\n",
       "      <td>Ensino Fundamental</td>\n",
       "      <td>&lt; 1000</td>\n",
       "      <td>116.238829</td>\n",
       "      <td>235.386072</td>\n",
       "      <td>Divorciado</td>\n",
       "      <td>PE</td>\n",
       "      <td>Pernambuco</td>\n",
       "      <td>Nordeste</td>\n",
       "      <td>Brasil</td>\n",
       "      <td>2024-01-05</td>\n",
       "      <td>Pássaro</td>\n",
       "      <td>moderado</td>\n",
       "      <td>Cerveja</td>\n",
       "      <td>Aprender algo novo</td>\n",
       "      <td>Mensal</td>\n",
       "      <td>Rock</td>\n",
       "    </tr>\n",
       "    <tr>\n",
       "      <th>4</th>\n",
       "      <td>10142654</td>\n",
       "      <td>Feminino</td>\n",
       "      <td>1969-08-05</td>\n",
       "      <td>Graduação</td>\n",
       "      <td>3000-5000</td>\n",
       "      <td>88.609912</td>\n",
       "      <td>38.102665</td>\n",
       "      <td>Casado</td>\n",
       "      <td>PB</td>\n",
       "      <td>Paraíba</td>\n",
       "      <td>Nordeste</td>\n",
       "      <td>Brasil</td>\n",
       "      <td>2024-01-05</td>\n",
       "      <td>Lagarto</td>\n",
       "      <td>moderado</td>\n",
       "      <td>Café</td>\n",
       "      <td>Assistir TV</td>\n",
       "      <td>Nunca</td>\n",
       "      <td>Pop</td>\n",
       "    </tr>\n",
       "  </tbody>\n",
       "</table>\n",
       "</div>"
      ],
      "text/plain": [
       "   cod_pessoa     genero data_nascimento            educacao renda_mensal  \\\n",
       "0    10141743  Masculino      1981-04-25       Pós-Graduação    1000-3000   \n",
       "1    10141860   Feminino      1966-01-19        Ensino Médio       > 5000   \n",
       "2    10142548  Masculino      1973-08-02       Pós-Graduação       > 5000   \n",
       "3    10142591  Masculino      1997-03-05  Ensino Fundamental       < 1000   \n",
       "4    10142654   Feminino      1969-08-05           Graduação    3000-5000   \n",
       "\n",
       "         peso  colesterol estado_civil sigla          estado    regiao  \\\n",
       "0   61.018446   96.777322        Viúvo    RJ  Rio de Janeiro   Sudeste   \n",
       "1  108.557401  176.108130        Viúvo    AC            Acre     Norte   \n",
       "2  112.349921  144.110224       Casado    RJ  Rio de Janeiro   Sudeste   \n",
       "3  116.238829  235.386072   Divorciado    PE      Pernambuco  Nordeste   \n",
       "4   88.609912   38.102665       Casado    PB         Paraíba  Nordeste   \n",
       "\n",
       "     pais data_coleta animal_estimacao     clima bebida_favorita  \\\n",
       "0  Brasil  2024-01-05          Lagarto      frio         Cerveja   \n",
       "1  Brasil  2024-01-05           Coelho    quente            Café   \n",
       "2  Brasil  2024-01-05          Lagarto      frio            Café   \n",
       "3  Brasil  2024-01-05          Pássaro  moderado         Cerveja   \n",
       "4  Brasil  2024-01-05          Lagarto  moderado            Café   \n",
       "\n",
       "                hobby atividade_fisica preferencia_musical  \n",
       "0    Praticar esporte           Diária                 Pop  \n",
       "1         Assistir TV          Semanal                 Pop  \n",
       "2          Ler livros            Nunca                Rock  \n",
       "3  Aprender algo novo           Mensal                Rock  \n",
       "4         Assistir TV            Nunca                 Pop  "
      ]
     },
     "execution_count": 10,
     "metadata": {},
     "output_type": "execute_result"
    }
   ],
   "source": [
    "df_unido.head()"
   ]
  },
  {
   "cell_type": "code",
   "execution_count": 11,
   "id": "e0f91ebb-fa1a-4d8a-9171-37583017a43b",
   "metadata": {},
   "outputs": [
    {
     "name": "stdout",
     "output_type": "stream",
     "text": [
      "<class 'pandas.core.frame.DataFrame'>\n",
      "RangeIndex: 2195 entries, 0 to 2194\n",
      "Data columns (total 19 columns):\n",
      " #   Column               Non-Null Count  Dtype  \n",
      "---  ------               --------------  -----  \n",
      " 0   cod_pessoa           2195 non-null   int64  \n",
      " 1   genero               2195 non-null   object \n",
      " 2   data_nascimento      2195 non-null   object \n",
      " 3   educacao             2195 non-null   object \n",
      " 4   renda_mensal         2195 non-null   object \n",
      " 5   peso                 2190 non-null   float64\n",
      " 6   colesterol           2195 non-null   float64\n",
      " 7   estado_civil         2185 non-null   object \n",
      " 8   sigla                2195 non-null   object \n",
      " 9   estado               2195 non-null   object \n",
      " 10  regiao               2195 non-null   object \n",
      " 11  pais                 2195 non-null   object \n",
      " 12  data_coleta          2195 non-null   object \n",
      " 13  animal_estimacao     2195 non-null   object \n",
      " 14  clima                2195 non-null   object \n",
      " 15  bebida_favorita      2195 non-null   object \n",
      " 16  hobby                2195 non-null   object \n",
      " 17  atividade_fisica     2195 non-null   object \n",
      " 18  preferencia_musical  2195 non-null   object \n",
      "dtypes: float64(2), int64(1), object(16)\n",
      "memory usage: 325.9+ KB\n"
     ]
    }
   ],
   "source": [
    "df_unido.info()"
   ]
  },
  {
   "cell_type": "code",
   "execution_count": 12,
   "id": "e13e5596-49cc-4d2b-83f4-93524f3ec1b4",
   "metadata": {
    "editable": true,
    "slideshow": {
     "slide_type": ""
    },
    "tags": []
   },
   "outputs": [],
   "source": [
    "moda_estado_civil = df_unido['estado_civil'].mode()[0]\n",
    "media_peso = df_unido['peso'].mean().round()\n",
    "\n",
    "df_unido['estado_civil'].fillna(value=moda_estado_civil, inplace=True)\n",
    "df_unido['peso'].fillna(value=media_peso, inplace=True)"
   ]
  },
  {
   "cell_type": "code",
   "execution_count": 13,
   "id": "e82f6aa6-e765-4fb8-bc7a-8880a82679de",
   "metadata": {},
   "outputs": [
    {
     "data": {
      "text/plain": [
       "2127"
      ]
     },
     "execution_count": 13,
     "metadata": {},
     "output_type": "execute_result"
    }
   ],
   "source": [
    "len(df_unido['cod_pessoa'].unique())"
   ]
  },
  {
   "cell_type": "code",
   "execution_count": 14,
   "id": "cc34a950-02ea-4ecf-934e-645e66836c92",
   "metadata": {},
   "outputs": [],
   "source": [
    "df_unido.drop_duplicates(inplace=True)"
   ]
  },
  {
   "cell_type": "code",
   "execution_count": 15,
   "id": "3e2d7026-c30e-48c8-836d-0280324efc03",
   "metadata": {},
   "outputs": [
    {
     "name": "stdout",
     "output_type": "stream",
     "text": [
      "<class 'pandas.core.frame.DataFrame'>\n",
      "Index: 2127 entries, 0 to 2126\n",
      "Data columns (total 19 columns):\n",
      " #   Column               Non-Null Count  Dtype  \n",
      "---  ------               --------------  -----  \n",
      " 0   cod_pessoa           2127 non-null   int64  \n",
      " 1   genero               2127 non-null   object \n",
      " 2   data_nascimento      2127 non-null   object \n",
      " 3   educacao             2127 non-null   object \n",
      " 4   renda_mensal         2127 non-null   object \n",
      " 5   peso                 2127 non-null   float64\n",
      " 6   colesterol           2127 non-null   float64\n",
      " 7   estado_civil         2127 non-null   object \n",
      " 8   sigla                2127 non-null   object \n",
      " 9   estado               2127 non-null   object \n",
      " 10  regiao               2127 non-null   object \n",
      " 11  pais                 2127 non-null   object \n",
      " 12  data_coleta          2127 non-null   object \n",
      " 13  animal_estimacao     2127 non-null   object \n",
      " 14  clima                2127 non-null   object \n",
      " 15  bebida_favorita      2127 non-null   object \n",
      " 16  hobby                2127 non-null   object \n",
      " 17  atividade_fisica     2127 non-null   object \n",
      " 18  preferencia_musical  2127 non-null   object \n",
      "dtypes: float64(2), int64(1), object(16)\n",
      "memory usage: 332.3+ KB\n"
     ]
    }
   ],
   "source": [
    "df_unido.info()"
   ]
  },
  {
   "cell_type": "code",
   "execution_count": 16,
   "id": "1cac6824-da2f-4f3f-9f9d-75603dd3ea39",
   "metadata": {},
   "outputs": [],
   "source": [
    "df_unido[\"data_nascimento\"] = df_unido[\"data_nascimento\"].astype('datetime64[ns]')\n",
    "df_unido[\"data_coleta\"] = df_unido[\"data_coleta\"].astype('datetime64[ns]')\n",
    "\n",
    "df_unido['idade'] = (pd.to_datetime('2024-06-20') - df_unido[\"data_nascimento\"]).dt.days / 365\n",
    "df_unido['idade'] = df_unido['idade'].astype('int64')"
   ]
  },
  {
   "cell_type": "code",
   "execution_count": 17,
   "id": "7a013e67-fc67-48ff-b27e-e47c14433096",
   "metadata": {},
   "outputs": [
    {
     "data": {
      "text/plain": [
       "┌──────────────────┬───────┐\n",
       "│ animal_estimacao │  qtd  │\n",
       "│     varchar      │ int64 │\n",
       "├──────────────────┼───────┤\n",
       "│ Pássaro          │    84 │\n",
       "│ Coelho           │    85 │\n",
       "│ Lagarto          │    86 │\n",
       "│ Tartaruga        │    87 │\n",
       "│ Cachorro         │    90 │\n",
       "│ Hamster          │    95 │\n",
       "│ Peixe            │    95 │\n",
       "│ Gato             │   107 │\n",
       "└──────────────────┴───────┘"
      ]
     },
     "execution_count": 17,
     "metadata": {},
     "output_type": "execute_result"
    }
   ],
   "source": [
    "duckdb.sql(\"\"\"\n",
    "SELECT animal_estimacao, COUNT(animal_estimacao) as qtd\n",
    "FROM df_unido\n",
    "WHERE genero = 'Feminino'\n",
    "GROUP BY genero, animal_estimacao\n",
    "ORDER BY qtd ASC\n",
    "\"\"\")"
   ]
  },
  {
   "cell_type": "code",
   "execution_count": 18,
   "id": "372de608-5385-4ade-9444-ba70411c6798",
   "metadata": {},
   "outputs": [
    {
     "data": {
      "text/plain": [
       "array(['Diária', 'Semanal', 'Nunca', 'Mensal'], dtype=object)"
      ]
     },
     "execution_count": 18,
     "metadata": {},
     "output_type": "execute_result"
    }
   ],
   "source": [
    "df_unido['atividade_fisica'].unique()"
   ]
  },
  {
   "cell_type": "code",
   "execution_count": 19,
   "id": "cc330ab7-0e6f-4cce-a834-1ca4235a9f32",
   "metadata": {},
   "outputs": [
    {
     "data": {
      "text/plain": [
       "┌────────────────────┐\n",
       "│  avg(colesterol)   │\n",
       "│       double       │\n",
       "├────────────────────┤\n",
       "│ 118.90591506495466 │\n",
       "└────────────────────┘"
      ]
     },
     "execution_count": 19,
     "metadata": {},
     "output_type": "execute_result"
    }
   ],
   "source": [
    "duckdb.sql(\"\"\"\n",
    "SELECT AVG(colesterol)\n",
    "FROM df_unido\n",
    "WHERE atividade_fisica = 'Diária'\n",
    "\"\"\")"
   ]
  },
  {
   "cell_type": "code",
   "execution_count": 20,
   "id": "1b5c9f2e-a188-4ca0-8591-6f4ff0798c3a",
   "metadata": {},
   "outputs": [
    {
     "data": {
      "text/plain": [
       "┌─────────────────────┬───────┐\n",
       "│ preferencia_musical │  qtd  │\n",
       "│       varchar       │ int64 │\n",
       "├─────────────────────┼───────┤\n",
       "│ Rock                │   153 │\n",
       "│ Clássica            │   142 │\n",
       "│ Pop                 │   137 │\n",
       "│ Sertanejo           │   136 │\n",
       "└─────────────────────┴───────┘"
      ]
     },
     "execution_count": 20,
     "metadata": {},
     "output_type": "execute_result"
    }
   ],
   "source": [
    "duckdb.sql(\"\"\"\n",
    "SELECT preferencia_musical, COUNT(preferencia_musical) as qtd\n",
    "FROM df_unido\n",
    "WHERE estado_civil = 'Casado'\n",
    "GROUP BY preferencia_musical\n",
    "ORDER BY qtd DESC\n",
    "\"\"\")"
   ]
  },
  {
   "cell_type": "code",
   "execution_count": 21,
   "id": "dab4676f-5e48-4c63-90e1-90d1b3c9e43c",
   "metadata": {},
   "outputs": [
    {
     "data": {
      "text/plain": [
       "┌────────────────────┐\n",
       "│     avg(idade)     │\n",
       "│       double       │\n",
       "├────────────────────┤\n",
       "│ 46.282051282051285 │\n",
       "└────────────────────┘"
      ]
     },
     "execution_count": 21,
     "metadata": {},
     "output_type": "execute_result"
    }
   ],
   "source": [
    "duckdb.sql(\"\"\"\n",
    "SELECT AVG(idade)\n",
    "FROM df_unido\n",
    "WHERE genero = 'Masculino' AND clima = 'frio' AND bebida_favorita = 'Chá'\n",
    "\"\"\")"
   ]
  },
  {
   "cell_type": "code",
   "execution_count": 22,
   "id": "f5322f39-77d0-47bf-8446-34cad810c8ff",
   "metadata": {},
   "outputs": [
    {
     "data": {
      "text/plain": [
       "┌──────────┐\n",
       "│ count(0) │\n",
       "│  int64   │\n",
       "├──────────┤\n",
       "│      132 │\n",
       "└──────────┘"
      ]
     },
     "execution_count": 22,
     "metadata": {},
     "output_type": "execute_result"
    }
   ],
   "source": [
    "duckdb.sql(\"\"\"\n",
    "SELECT count(0)\n",
    "FROM df_unido\n",
    "WHERE renda_mensal = '> 5000' AND educacao = 'Graduação'\n",
    "\"\"\")"
   ]
  },
  {
   "cell_type": "code",
   "execution_count": 25,
   "id": "2903d4a8-e55e-44aa-af3f-7b7d7a102f9d",
   "metadata": {},
   "outputs": [
    {
     "data": {
      "text/plain": [
       "┌───────────────────┐\n",
       "│  avg(colesterol)  │\n",
       "│      double       │\n",
       "├───────────────────┤\n",
       "│ 114.6427754663066 │\n",
       "└───────────────────┘"
      ]
     },
     "execution_count": 25,
     "metadata": {},
     "output_type": "execute_result"
    }
   ],
   "source": [
    "duckdb.sql(\"\"\"\n",
    "SELECT AVG(colesterol)\n",
    "FROM df_unido\n",
    "WHERE estado_civil = 'Casado' AND regiao = 'Sudeste'\n",
    "\"\"\")"
   ]
  },
  {
   "cell_type": "code",
   "execution_count": 43,
   "id": "ab561661-aad9-4d85-820f-9bd49343d7f5",
   "metadata": {},
   "outputs": [
    {
     "data": {
      "text/plain": [
       "┌────────────────────┬───────┐\n",
       "│       hobby        │  qtd  │\n",
       "│      varchar       │ int64 │\n",
       "├────────────────────┼───────┤\n",
       "│ Escutar música     │    80 │\n",
       "│ Escrever           │    76 │\n",
       "│ Dormir             │    73 │\n",
       "│ Praticar esporte   │    69 │\n",
       "│ Assistir TV        │    67 │\n",
       "│ Aprender algo novo │    65 │\n",
       "│ Pintar quadros     │    63 │\n",
       "│ Ler livros         │    61 │\n",
       "└────────────────────┴───────┘"
      ]
     },
     "execution_count": 43,
     "metadata": {},
     "output_type": "execute_result"
    }
   ],
   "source": [
    "duckdb.sql(\"\"\"\n",
    "SELECT hobby, COUNT(hobby) as qtd\n",
    "FROM df_unido\n",
    "WHERE genero = 'Feminino' AND idade > 35\n",
    "GROUP BY hobby\n",
    "ORDER BY qtd DESC\n",
    "\"\"\")"
   ]
  },
  {
   "cell_type": "code",
   "execution_count": 54,
   "id": "bffa6dc6-6132-4336-b9cc-8ec0d7884f25",
   "metadata": {},
   "outputs": [
    {
     "data": {
      "text/plain": [
       "<Axes: >"
      ]
     },
     "execution_count": 54,
     "metadata": {},
     "output_type": "execute_result"
    },
    {
     "data": {
      "image/png": "[encoded data removed]",
      "text/plain": [
       "<Figure size 640x480 with 1 Axes>"
      ]
     },
     "metadata": {},
     "output_type": "display_data"
    }
   ],
   "source": [
    "df_unido[(df_unido['genero']=='Masculino') & (df_unido['hobby']=='Praticar esporte')]['idade'].hist(bins=20)"
   ]
  },
  {
   "cell_type": "code",
   "execution_count": 63,
   "id": "3749663d-c9f1-43fd-bbe7-0237af39d6a1",
   "metadata": {},
   "outputs": [
    {
     "data": {
      "text/plain": [
       "genero\n",
       "Masculino    70.27027\n",
       "Feminino     29.72973\n",
       "Name: proportion, dtype: float64"
      ]
     },
     "execution_count": 63,
     "metadata": {},
     "output_type": "execute_result"
    }
   ],
   "source": [
    "df_unido[(df_unido['animal_estimacao']=='Cachorro') & (df_unido['hobby']=='Ler livros')]['genero'].value_counts(normalize=True) * 100"
   ]
  },
  {
   "cell_type": "code",
   "execution_count": 64,
   "id": "d5afc324-d512-43bd-95f7-cc3370a0b58b",
   "metadata": {},
   "outputs": [
    {
     "data": {
      "text/plain": [
       "14.345856108856259"
      ]
     },
     "execution_count": 64,
     "metadata": {},
     "output_type": "execute_result"
    }
   ],
   "source": [
    "df_unido[(df_unido['hobby']=='Assistir TV')]['idade'].std()"
   ]
  },
  {
   "cell_type": "code",
   "execution_count": null,
   "id": "5fa0c9e8-abaa-4c91-8d67-444d2fc6ea8c",
   "metadata": {},
   "outputs": [],
   "source": []
  }
 ],
 "metadata": {
  "kernelspec": {
   "display_name": "Python 3 (ipykernel)",
   "language": "python",
   "name": "python3"
  },
  "language_info": {
   "codemirror_mode": {
    "name": "ipython",
    "version": 3
   },
   "file_extension": ".py",
   "mimetype": "text/x-python",
   "name": "python",
   "nbconvert_exporter": "python",
   "pygments_lexer": "ipython3",
   "version": "3.11.6"
  }
 },
 "nbformat": 4,
 "nbformat_minor": 5
}
